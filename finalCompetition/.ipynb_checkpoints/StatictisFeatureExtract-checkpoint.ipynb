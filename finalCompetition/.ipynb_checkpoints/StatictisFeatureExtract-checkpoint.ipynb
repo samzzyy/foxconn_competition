{
 "cells": [
  {
   "cell_type": "code",
   "execution_count": null,
   "metadata": {
    "collapsed": true
   },
   "outputs": [],
   "source": [
    "import pandas as pd\n",
    "import matplotlib.pyplot as plt\n",
    "import numpy as np\n",
    "import os\n",
    "import gc\n",
    "from scipy import stats"
   ]
  },
  {
   "cell_type": "code",
   "execution_count": null,
   "metadata": {
    "collapsed": true
   },
   "outputs": [],
   "source": [
    "def plt_plot(x,y):\n",
    "    fig = plt.figure()\n",
    "    ax = fig.add_subplot(1, 1, 1)\n",
    "    ax.plot(x,y, c=\"b\")\n",
    "    plt.show()\n",
    "def window1sDataCut(df_raw_vibration):\n",
    "    df_raw_vibration_length = df_raw_vibration.shape[0]\n",
    "    delete_length = df_raw_vibration_length % 25600\n",
    "    seconds_count=df_raw_vibration_length// 25600\n",
    "    df_vibration = df_raw_vibration[delete_length//2 : delete_length//2+25600*seconds_count]\n",
    "    print(\"after cut:\",df_vibration.shape, seconds_count)\n",
    "    return df_vibration,seconds_count"
   ]
  },
  {
   "cell_type": "code",
   "execution_count": null,
   "metadata": {
    "collapsed": true
   },
   "outputs": [],
   "source": [
    "# source_dire='../01-TrainingData-additional'\n",
    "# source_dire=\"../01-TrainingData-qLua\"\n",
    "source_dire='../02-TestingData-keD1'\n",
    "tool_age_list=[40,70,50,70,120]"
   ]
  },
  {
   "cell_type": "code",
   "execution_count": null,
   "metadata": {
    "collapsed": true
   },
   "outputs": [],
   "source": [
    "for dire_index in [1,2,3,4,5]:\n",
    "    file_dire=os.path.join(source_dire,'0'+str(dire_index),'Sensor1')\n",
    "#     file_dire=os.path.join(source_dire,'0'+str(dire_index),'Sensor')\n",
    "    file_list_length=len(os.listdir(file_dire))\n",
    "    signal_array=np.array([]).reshape(-1,25600,4)\n",
    "    residual_life_list=[]\n",
    "\n",
    "    for file_index in range(1,file_list_length+1):\n",
    "        df_signal=pd.read_csv(os.path.join(file_dire,str(file_index)+\".csv\"))\n",
    "        df_60s,seconds_counts=window1sDataCut(df_signal)\n",
    "        reshape_data = df_60s.values.reshape(-1, 25600, 4)\n",
    "        signal_array=np.append(signal_array,reshape_data,axis=0)\n",
    "        residual_life_list.extend([[file_index*5+tool_age_list[dire_index-1],(file_list_length-file_index)*5]]*seconds_counts)\n",
    "        gc.collect()\n",
    "\n",
    "    print(signal_array.shape,'signal_array')\n",
    "    absmean = abs(signal_array).mean(axis=1)\n",
    "    print('absmean')\n",
    "    absmedia = np.median(abs(signal_array),axis=1)\n",
    "    print('absmedia')\n",
    "    # absmode = stats.mode(abs(signal_array),axis=1)[0]\n",
    "    # print('absmode')\n",
    "    absrange = abs(signal_array.max(axis=1)) - abs(signal_array.min(axis=1))\n",
    "    print('absrange')\n",
    "    absstdn = abs(signal_array).std(axis=1)\n",
    "    print('absstdn')\n",
    "    absvar = abs(signal_array).var(axis=1)\n",
    "    print('absvar')\n",
    "    maxvalue = signal_array.max(axis=1)\n",
    "    print('maxvalue')\n",
    "    absmax = abs(signal_array).max(axis=1)\n",
    "    print('absmax')\n",
    "    minvalue = signal_array.min(axis=1)\n",
    "    print('minvalue')\n",
    "    absmin = abs(signal_array).min(axis=1)\n",
    "    print('absmin')\n",
    "    resudual_life_array=np.array(residual_life_list)\n",
    "    feature_arr=np.concatenate([absmean, absmedia, absrange, absstdn, absvar, maxvalue, absmax, minvalue, absmin,resudual_life_array],axis=1)\n",
    "#     df_feature=pd.DataFrame(feature_arr,columns=[\"c1_absmean\", \"c2_absmean\",\"c3_absmean\",\"v_absmean\",\n",
    "#                               \"c1_absmedia\", \"c2_absmedia\",\"c3_absmedia\",\"v_absmedia\",\n",
    "#     #                           \"v1_absmode\", \"v2_absmode\", \"v3_absmode\",\"c_absmode\",\n",
    "#                               \"c1_absrange\", \"c2_absrange\",\"c3_absrange\",\"v_absrange\",\n",
    "#                               \"c1_absstdn\", \"c2_absstdn\",\"c3_absstdn\",\"v_absstdn\",\n",
    "#                               \"c1_absvar\",  \"c2_absvar\", \"c3_absvar\", \"v_absvar\",\n",
    "#                               \"c1_maxvalue\", \"c2_maxvalue\",\"c3_maxvalue\",\"v_maxvalue\",\n",
    "#                               \"c1_absmax\", \"c2_absmax\",\"c3_absmax\",\"v_absmax\",\n",
    "#                               \"c1_minvalue\", \"c2_minvalue\",\"c3_minvalue\",\"v_minvalue\",\n",
    "#                               \"c1_absmin\",\"c2_absmin\", \"c3_absmin\",\"v_absmin\",\n",
    "#                               \"tool_age\",\"residual_life\"])\n",
    "    df_feature=pd.DataFrame(feature_arr,columns=[\"v1_absmean\", \"v2_absmean\",\"v3_absmean\",\"c_absmean\",\n",
    "                              \"v1_absmedia\", \"v2_absmedia\",\"v3_absmedia\",\"c_absmedia\",\n",
    "    #                           \"v1_absmode\", \"v2_absmode\", \"v3_absmode\",\"c_absmode\",\n",
    "                              \"v1_absrange\", \"v2_absrange\",\"v3_absrange\",\"c_absrange\",\n",
    "                              \"v1_absstdn\", \"v2_absstdn\",\"v3_absstdn\",\"c_absstdn\",\n",
    "                              \"v1_absvar\",  \"v2_absvar\", \"v3_absvar\", \"c_absvar\",\n",
    "                              \"v1_maxvalue\", \"v2_maxvalue\",\"v3_maxvalue\",\"c_maxvalue\",\n",
    "                              \"v1_absmax\", \"v2_absmax\",\"v3_absmax\",\"c_absmax\",\n",
    "                              \"v1_minvalue\", \"v2_minvalue\",\"v3_minvalue\",\"c_minvalue\",\n",
    "                              \"v1_absmin\",\"v2_absmin\", \"v3_absmin\",\"c_absmin\",\n",
    "                              \"tool_age\",\"residual_life\"])\n",
    "    print(df_feature.shape,df_feature.columns,df_feature.head(10),df_feature.tail(10))\n",
    "#     df_feature.to_csv(\"feature/{}_train_feature.csv\".format(dire_index), index=False)\n",
    "    df_feature.to_csv(\"feature/testFeature/{}_test_addi_feature.csv\".format(dire_index), index=False)"
   ]
  },
  {
   "cell_type": "code",
   "execution_count": null,
   "metadata": {
    "collapsed": true
   },
   "outputs": [],
   "source": [
    "for dire_index in [1,2,3,4,5]:\n",
    "    #################################################\n",
    "    # vibration&currents feature per minutes get\n",
    "    #################################################\n",
    "    file_dire=os.path.join(source_dire,'0'+str(dire_index),'Sensor1')\n",
    "#     file_dire=os.path.join(source_dire,'0'+str(dire_index),'Sensor')\n",
    "    file_list_length=len(os.listdir(file_dire))\n",
    "    signal_array=np.array([]).reshape(-1,13)\n",
    "    toolage_list=[]\n",
    "    for file_index in range(1,file_list_length+1):\n",
    "        df_vibration_current=pd.read_csv(os.path.join(file_dire,str(file_index)+\".csv\"))\n",
    "        mean_temp=df_vibration_current.mean(axis=0)\n",
    "        var_temp=df_vibration_current.var(axis=0)\n",
    "        range_temp=df_vibration_current.max(axis=0)-df_vibration_current.min(axis=0)\n",
    "        feature_arr=np.concatenate((mean_temp,var_temp,range_temp,[file_index*5++tool_age_list[dire_index-1]]),axis=0)\n",
    "        print(file_index)\n",
    "        signal_array=np.append(signal_array,feature_arr.reshape(-1,13),axis=0)\n",
    "    df_feature_min_vi_cu=pd.DataFrame(signal_array,columns=['v1_1min_mean','v2_1min_mean','v3_1min_mean','c_1min_mean',\n",
    "                                                 'v1_1min_var','v2_1min_var','v3_1min_var','c_1min_var',\n",
    "                                                 'v1_1min_range','v2_1min_range','v3_1min_range','c_1min_range','tool_age'])\n",
    "    ###################################\n",
    "    # spindel feature per minutes get\n",
    "    ###################################\n",
    "    df_plc_raw=pd.read_csv(os.path.join(source_dire,\"0\"+str(dire_index),\"PLC/plc.csv\"))\n",
    "    print(df_plc_raw.shape,df_plc_raw.columns)\n",
    "    df_plc_raw[\"time\"]=df_plc_raw[\"time\"].str[:5]\n",
    "    mean_spindel=df_plc_raw[\"spindle_load\"].groupby(df_plc_raw['time']).mean()\n",
    "    var_spindel=df_plc_raw[\"spindle_load\"].groupby(df_plc_raw['time']).var()\n",
    "    range_spindel=df_plc_raw[\"spindle_load\"].groupby(df_plc_raw['time']).max()-df_plc_raw[\"spindle_load\"].groupby(df_plc_raw['time']).min()\n",
    "    df_spindel_feature=pd.concat([mean_spindel,var_spindel,range_spindel],axis=1,ignore_index=True)\n",
    "    df_spindel_feature.columns=[\"mean_spindel\",\"var_spindel\",\"range_spindel\"]\n",
    "    df_spindel_feature.index=range(df_spindel_feature.shape[0])\n",
    "    ################################### ###################################\n",
    "    # concat vibration & current feature with spindel feature per minutes \n",
    "    ################################### ###################################\n",
    "    df_feature_min=pd.concat([df_feature_min_vi_cu,df_spindel_feature],axis=1)\n",
    "    df_feature_seconds=pd.read_csv(os.path.join(\"feature/testFeature\",\"%d_test_addi_feature.csv\"%dire_index))\n",
    "    ################################### ###################################\n",
    "    # concat secondes feature & minutes feature\n",
    "    ################################### ###################################\n",
    "    df_feature=pd.merge(df_feature_seconds,df_feature_min,on=\"tool_age\")\n",
    "    df_feature.to_csv(\"feature/testFeature/test_%d_1min_addi_feature.csv\"%dire_index,index=False)\n",
    "    print(\"df_feature\",df_feature.shape,df_feature_seconds.shape,df_feature_min.shape)\n"
   ]
  },
  {
   "cell_type": "code",
   "execution_count": null,
   "metadata": {
    "collapsed": true
   },
   "outputs": [],
   "source": []
  }
 ],
 "metadata": {
  "kernelspec": {
   "display_name": "Python [default]",
   "language": "python",
   "name": "python3"
  },
  "language_info": {
   "codemirror_mode": {
    "name": "ipython",
    "version": 3
   },
   "file_extension": ".py",
   "mimetype": "text/x-python",
   "name": "python",
   "nbconvert_exporter": "python",
   "pygments_lexer": "ipython3",
   "version": "3.5.2"
  }
 },
 "nbformat": 4,
 "nbformat_minor": 1
}
