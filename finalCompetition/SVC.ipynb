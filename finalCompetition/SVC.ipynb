{
 "cells": [
  {
   "cell_type": "code",
   "execution_count": 1,
   "metadata": {
    "collapsed": true
   },
   "outputs": [],
   "source": [
    "import pandas as pd\n",
    "import os\n",
    "import gc\n",
    "import numpy as np\n",
    "import matplotlib.pyplot as plt\n",
    "from sklearn import preprocessing\n",
    "from sklearn.svm import SVC"
   ]
  },
  {
   "cell_type": "code",
   "execution_count": 2,
   "metadata": {
    "collapsed": true
   },
   "outputs": [],
   "source": [
    "def plt_plot(y_real,y_predicted):\n",
    "    fig = plt.figure()\n",
    "    ax = fig.add_subplot(1, 1, 1)\n",
    "    ax.plot(range(len(y_real)),y_real, color='g')\n",
    "    ax.plot(range(len(y_predicted)),y_predicted,color='r')\n",
    "    plt.show()\n",
    "def plt_one(y_real):\n",
    "    fig = plt.figure()\n",
    "    ax = fig.add_subplot(1, 1, 1)\n",
    "    ax.plot(range(len(y_real)),y_real, color='g')\n",
    "    plt.show()"
   ]
  },
  {
   "cell_type": "code",
   "execution_count": 3,
   "metadata": {
    "collapsed": true
   },
   "outputs": [],
   "source": [
    "source_dire=\"feature\""
   ]
  },
  {
   "cell_type": "code",
   "execution_count": 60,
   "metadata": {
    "collapsed": true
   },
   "outputs": [],
   "source": [
    "# columns_list=['v1_absmean', 'v2_absmean', 'v3_absmean', 'v1_absmedia', 'v2_absmedia',\n",
    "#               'v3_absmedia', 'v1_absrange', 'v2_absrange', 'v3_absrange', 'v1_absstdn', \n",
    "#               'v2_absstdn', 'v3_absstdn', 'v1_absvar', 'v2_absvar', 'v3_absvar',\n",
    "#               'v1_maxvalue', 'v2_maxvalue', 'v3_maxvalue', 'v1_absmax', 'v2_absmax',\n",
    "#               'v3_absmax', 'v1_minvalue', 'v2_minvalue', 'v3_minvalue', 'v1_absmin', \n",
    "#               'v2_absmin', 'v3_absmin', 'tool_age', 'residual_life', 'v1_1min_mean', \n",
    "#               'v2_1min_mean', 'v3_1min_mean', 'v1_1min_var', 'v2_1min_var', 'v3_1min_var',\n",
    "#               'v1_1min_range', 'v2_1min_range', 'v3_1min_range', 'mean_spindel', 'var_spindel',\n",
    "#               'range_spindel']"
   ]
  },
  {
   "cell_type": "code",
   "execution_count": 112,
   "metadata": {
    "collapsed": false
   },
   "outputs": [
    {
     "name": "stdout",
     "output_type": "stream",
     "text": [
      "(7980, 52) (7980,) (3000, 52) (3000,)\n",
      "(2400, 52) (2400,)\n"
     ]
    }
   ],
   "source": [
    "df_train=pd.DataFrame([])\n",
    "df_validation=pd.DataFrame([])\n",
    "df_final=pd.DataFrame([])\n",
    "threshold=70\n",
    "for i in range(1,6):    \n",
    "    df_temp=pd.read_csv(os.path.join(source_dire,\"test_\"+str(i)+\"_feature.csv\"))\n",
    "#     df_validation=df_validation.append(df_temp[columns_list])\n",
    "    df_validation=df_validation.append(df_temp)\n",
    "for i in range(1,4):    \n",
    "    df_temp=pd.read_csv(os.path.join(source_dire,\"train_\"+str(i)+\"_feature.csv\"))\n",
    "#     df_train=df_train.append(df_temp[columns_list])\n",
    "    df_train=df_train.append(df_temp)\n",
    "for i in range(1,5):    \n",
    "    df_temp=pd.read_csv(os.path.join(source_dire,\"final_\"+str(i)+\"_feature.csv\"))\n",
    "#     df_final=df_train.append(df_temp[columns_list])\n",
    "    df_final=df_final.append(df_temp)\n",
    "train_label=np.ones(df_train[\"residual_life\"].shape[0])\n",
    "train_label[df_train[\"residual_life\"]>=threshold]=0\n",
    "df_train.drop('residual_life',axis=1,inplace=True)\n",
    "train_data=df_train.values\n",
    "\n",
    "valid_residual_life=df_validation[\"residual_life\"].values\n",
    "valid_label=np.ones(df_validation[\"residual_life\"].shape[0])\n",
    "valid_label[df_validation[\"residual_life\"]>=threshold]=0\n",
    "df_validation.drop('residual_life',axis=1,inplace=True)\n",
    "valid_data=df_validation.values\n",
    "\n",
    "final_label=np.ones(df_final[\"residual_life\"].shape[0])\n",
    "final_label[df_final[\"residual_life\"]>=threshold]=0\n",
    "df_final.drop('residual_life',axis=1,inplace=True)\n",
    "final_data=df_final.values\n",
    "gc.collect()\n",
    "\n",
    "min_max_scaler = preprocessing.MinMaxScaler()\n",
    "train_data = min_max_scaler.fit_transform(train_data)\n",
    "valid_data = min_max_scaler.fit_transform(valid_data)\n",
    "final_data = min_max_scaler.fit_transform(final_data)\n",
    "print(train_data.shape,train_label.shape,valid_data.shape,valid_label.shape)\n",
    "print(final_data.shape,final_label.shape)\n"
   ]
  },
  {
   "cell_type": "code",
   "execution_count": 113,
   "metadata": {
    "collapsed": false
   },
   "outputs": [
    {
     "name": "stdout",
     "output_type": "stream",
     "text": [
      "SVC(C=1.0, cache_size=200, class_weight=None, coef0=0.0,\n",
      "  decision_function_shape='ovr', degree=3, gamma='auto', kernel='rbf',\n",
      "  max_iter=-1, probability=False, random_state=None, shrinking=True,\n",
      "  tol=0.001, verbose=False)\n",
      "fit finished\n"
     ]
    }
   ],
   "source": [
    "clf=SVC()\n",
    "print(clf)\n",
    "clf.fit(train_data, train_label)\n",
    "print(\"fit finished\")"
   ]
  },
  {
   "cell_type": "code",
   "execution_count": 114,
   "metadata": {
    "collapsed": false
   },
   "outputs": [
    {
     "name": "stdout",
     "output_type": "stream",
     "text": [
      "[[ 496  224]\n",
      " [   0 7260]]\n"
     ]
    }
   ],
   "source": [
    "from sklearn.metrics import confusion_matrix\n",
    "y_predicted=clf.predict(train_data)\n",
    "evalue_matrix = confusion_matrix(train_label, y_predicted)\n",
    "print(evalue_matrix)"
   ]
  },
  {
   "cell_type": "code",
   "execution_count": null,
   "metadata": {
    "collapsed": false
   },
   "outputs": [],
   "source": []
  },
  {
   "cell_type": "code",
   "execution_count": 115,
   "metadata": {
    "collapsed": false
   },
   "outputs": [
    {
     "name": "stdout",
     "output_type": "stream",
     "text": [
      "[[600]]\n",
      "1 1.0\n",
      "[[600]]\n",
      "2 1.0\n",
      "[[  0 360]\n",
      " [  0 240]]\n",
      "3 1.0\n",
      "[[600]]\n",
      "4 1.0\n",
      "[[600]]\n",
      "5 1.0\n"
     ]
    }
   ],
   "source": [
    "min_10=600\n",
    "for index in range(1,6):\n",
    "    y_predicted=clf.predict(valid_data[min_10*(index-1):min_10*index])\n",
    "    from sklearn.metrics import confusion_matrix\n",
    "    evalue_matrix = confusion_matrix(valid_label[min_10*(index-1):min_10*index], y_predicted)\n",
    "    print(evalue_matrix)\n",
    "    # print(np.mean(valid_label[min_10*(index-1):min_10*index]))\n",
    "    print(index,np.mean(y_predicted))"
   ]
  },
  {
   "cell_type": "code",
   "execution_count": 116,
   "metadata": {
    "collapsed": false
   },
   "outputs": [
    {
     "name": "stdout",
     "output_type": "stream",
     "text": [
      "1 1.0\n",
      "2 0.106666666667\n",
      "3 1.0\n",
      "4 1.0\n"
     ]
    }
   ],
   "source": [
    "min_10=600\n",
    "for index in range(1,5):\n",
    "    y_predicted=clf.predict(final_data[min_10*(index-1):min_10*index])\n",
    "    print(index,np.mean(y_predicted))"
   ]
  },
  {
   "cell_type": "code",
   "execution_count": null,
   "metadata": {
    "collapsed": true
   },
   "outputs": [],
   "source": []
  },
  {
   "cell_type": "code",
   "execution_count": null,
   "metadata": {
    "collapsed": true
   },
   "outputs": [],
   "source": []
  },
  {
   "cell_type": "code",
   "execution_count": 202,
   "metadata": {
    "collapsed": false
   },
   "outputs": [
    {
     "name": "stdout",
     "output_type": "stream",
     "text": [
      "   predicted  real  residual_life\n",
      "0        1.0   0.0           85.0\n",
      "1        1.0   0.0           85.0\n",
      "2        1.0   0.0           85.0\n",
      "3        1.0   0.0           85.0\n",
      "4        1.0   0.0           85.0\n"
     ]
    }
   ],
   "source": [
    "df_predicted=pd.DataFrame({\"real\":valid_label[min_10*(index-1):min_10*index],\n",
    "                           \"predicted\":y_predicted,\n",
    "                           \"residual_life\":valid_residual_life[min_10*(index-1):min_10*index]})\n",
    "print(df_predicted.head(5))\n",
    "df_predicted.to_csv(\"test_\"+str(index)+\"_70_judge.csv\",index=False)"
   ]
  },
  {
   "cell_type": "code",
   "execution_count": 128,
   "metadata": {
    "collapsed": false
   },
   "outputs": [
    {
     "name": "stdout",
     "output_type": "stream",
     "text": [
      "[[3 0]\n",
      " [1 3]]\n"
     ]
    }
   ],
   "source": [
    "from sklearn.metrics import confusion_matrix\n",
    "a=[1,1,1,1,0,0,0]\n",
    "b=[1,1,1,0,0,0,0]\n",
    "evalue_matrix = confusion_matrix(a,b)\n",
    "print(evalue_matrix)"
   ]
  },
  {
   "cell_type": "code",
   "execution_count": 280,
   "metadata": {
    "collapsed": false
   },
   "outputs": [
    {
     "name": "stdout",
     "output_type": "stream",
     "text": [
      "0.525\n"
     ]
    }
   ],
   "source": []
  },
  {
   "cell_type": "code",
   "execution_count": null,
   "metadata": {
    "collapsed": true
   },
   "outputs": [],
   "source": []
  }
 ],
 "metadata": {
  "anaconda-cloud": {},
  "kernelspec": {
   "display_name": "Python [default]",
   "language": "python",
   "name": "python3"
  },
  "language_info": {
   "codemirror_mode": {
    "name": "ipython",
    "version": 3
   },
   "file_extension": ".py",
   "mimetype": "text/x-python",
   "name": "python",
   "nbconvert_exporter": "python",
   "pygments_lexer": "ipython3",
   "version": "3.5.2"
  }
 },
 "nbformat": 4,
 "nbformat_minor": 1
}
