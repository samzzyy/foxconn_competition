{
 "cells": [
  {
   "cell_type": "code",
   "execution_count": 1,
   "metadata": {},
   "outputs": [],
   "source": [
    "import pandas as pd\n",
    "import matplotlib.pyplot as plt\n",
    "import numpy as np\n",
    "import os"
   ]
  },
  {
   "cell_type": "code",
   "execution_count": 2,
   "metadata": {},
   "outputs": [],
   "source": [
    "def plt_plot(x,y):\n",
    "    fig = plt.figure()\n",
    "    ax = fig.add_subplot(1, 1, 1)\n",
    "    ax.plot(x,y, c=\"b\")\n",
    "    plt.show()"
   ]
  },
  {
   "cell_type": "code",
   "execution_count": 3,
   "metadata": {},
   "outputs": [],
   "source": [
    "data_dire=\"../02-TestingData-poL3\"\n",
    "dire_num=\"01\"\n",
    "test_age_list=[40,70,50,70,120]"
   ]
  },
  {
   "cell_type": "code",
   "execution_count": null,
   "metadata": {},
   "outputs": [
    {
     "name": "stdout",
     "output_type": "stream",
     "text": [
      "(15799, 6) Index(['time', 'spindle_load', 'x', 'y', 'z', 'csv_no'], dtype='object')\n",
      "   mean_spindel  var_spindel  range_spindel\n",
      "0      0.056705     0.001530       0.195318\n",
      "1     14.836691    34.589429      24.457534\n",
      "2     15.368488    34.234837      23.215430\n",
      "3     15.361418    35.294442      23.398541\n",
      "4     13.457013    28.994925      25.275429\n",
      "5     20.480553    66.197709      29.908139\n",
      "6     14.034980    53.976316      19.650868\n",
      "7     19.323230     9.124645      17.365032\n",
      "8      2.975031    10.754347      38.074892\n",
      "9     19.309403    14.339862      19.690542 Index(['mean_spindel', 'var_spindel', 'range_spindel'], dtype='object') (10, 3)\n",
      "1\n",
      "40\n",
      "2\n",
      "45\n",
      "3\n",
      "50\n",
      "4\n",
      "55\n",
      "5\n"
     ]
    }
   ],
   "source": [
    "df_plc_raw=pd.read_csv(os.path.join(data_dire,dire_num,\"PLC/plc.csv\"))\n",
    "print(df_plc_raw.shape,df_plc_raw.columns)\n",
    "df_plc_raw[\"time\"]=df_plc_raw[\"time\"].str[:5]\n",
    "mean_spindel=df_plc_raw[\"spindle_load\"].groupby(df_plc_raw['time']).mean()\n",
    "var_spindel=df_plc_raw[\"spindle_load\"].groupby(df_plc_raw['time']).var()\n",
    "range_spindel=df_plc_raw[\"spindle_load\"].groupby(df_plc_raw['time']).max()-df_plc_raw[\"spindle_load\"].groupby(df_plc_raw['time']).min()\n",
    "df_spindel_feature=pd.concat([mean_spindel,var_spindel,range_spindel],axis=1,ignore_index=True)\n",
    "df_spindel_feature.columns=[\"mean_spindel\",\"var_spindel\",\"range_spindel\"]\n",
    "df_spindel_feature.index=range(df_spindel_feature.shape[0])\n",
    "print(df_spindel_feature,df_spindel_feature.columns,df_spindel_feature.shape)\n",
    "\n",
    "file_list=os.listdir(os.path.join(data_dire,dire_num,\"Sensor\"))\n",
    "c_mean_list=[]\n",
    "c_abs_mean_list=[]\n",
    "c_var_list=[]\n",
    "c_abs_var_list=[]\n",
    "c_range_list=[]\n",
    "c_abs_range_list=[]\n",
    "\n",
    "v_mean_list=[]\n",
    "v_abs_mean_list=[]\n",
    "v_var_list=[]\n",
    "v_abs_var_list=[]\n",
    "v_range_list=[]\n",
    "v_abs_range_list=[]\n",
    "tool_age_list=[]\n",
    "resudual_life_list=[]\n",
    "for fileindex in range(1,len(file_list)+1):\n",
    "    print(fileindex)\n",
    "    df_vibration_current=pd.read_csv(os.path.join(data_dire,dire_num,\"Sensor\",str(fileindex)+'.csv'))\n",
    "    tool_age=(fileindex*5)+test_age_list[int(dire_num)-1]-5\n",
    "    tool_age_list.append(tool_age)\n",
    "    print(tool_age)\n",
    "    resudual_life_list.append((len(file_list)-1-fileindex)*5)\n",
    "    v_mean_list.append(df_vibration_current['vibration_1'].mean())\n",
    "    v_abs_mean_list.append(abs(df_vibration_current['vibration_1']).mean())\n",
    "    v_var_list.append(df_vibration_current['vibration_1'].var())\n",
    "    v_abs_var_list.append(abs(df_vibration_current['vibration_1']).var())\n",
    "    v_range_list.append(df_vibration_current['vibration_1'].max()-df_vibration_current['vibration_1'].min())\n",
    "    v_abs_range_list.append(abs(df_vibration_current['vibration_1']).max()-abs(df_vibration_current['vibration_1']).min())\n",
    "    \n",
    "    c_mean_list.append(df_vibration_current['current'].mean())\n",
    "    c_abs_mean_list.append(abs(df_vibration_current['current']).mean())\n",
    "    c_var_list.append(df_vibration_current['current'].var())\n",
    "    c_abs_var_list.append(abs(df_vibration_current['current']).var())\n",
    "    c_range_list.append(df_vibration_current['current'].max()-df_vibration_current['current'].min())\n",
    "    c_abs_range_list.append(abs(df_vibration_current['current']).max()-abs(df_vibration_current['current']).min())\n",
    "\n",
    "columns_list=['c_mean','c_abs_mean','c_var','c_abs_var','c_range',\n",
    "              'c_abs_range','v_mean','v_abs_mean','v_var','v_abs_var',\n",
    "              'v_range','v_abs_range','tool_age','residual_life']\n",
    "feature_list=[c_mean_list,c_abs_mean_list,c_var_list,c_abs_var_list,c_range_list,\n",
    "                c_abs_range_list,v_mean_list,v_abs_mean_list,v_var_list,v_abs_var_list,\n",
    "                v_range_list,v_abs_range_list,tool_age_list,resudual_life_list]\n",
    "df_vib_cur_feature=pd.DataFrame(np.array(feature_list).T,columns=columns_list)\n",
    "print(df_vib_cur_feature.shape)\n",
    "df_feature=pd.concat([df_spindel_feature,df_vib_cur_feature],axis=1)\n",
    "print(df_feature.shape,df_feature.columns)\n",
    "df_feature.to_csv(\"feature/testFeature/test_min_\"+str(dire_num)+\"_feature.csv\",index=False)\n",
    "print(df_feature)"
   ]
  },
  {
   "cell_type": "code",
   "execution_count": 9,
   "metadata": {},
   "outputs": [],
   "source": [
    "fea_second_dire=\"../zd\"\n",
    "fea_minute_dire=\"feature/testFeature/\"\n",
    "file_index=1"
   ]
  },
  {
   "cell_type": "code",
   "execution_count": 10,
   "metadata": {},
   "outputs": [
    {
     "name": "stdout",
     "output_type": "stream",
     "text": [
      "Index(['mean_spindel', 'var_spindel', 'range_spindel', 'c_mean', 'c_abs_mean',\n",
      "       'c_var', 'c_abs_var', 'c_range', 'c_abs_range', 'v_mean', 'v_abs_mean',\n",
      "       'v_var', 'v_abs_var', 'v_range', 'v_abs_range', 'tool_age'],\n",
      "      dtype='object') \n",
      " (10, 16)\n",
      "Index(['v1_absmean', 'v2_absmean', 'v3_absmean', 'c_absmean', 'v1_absmedia',\n",
      "       'v2_absmedia', 'v3_absmedia', 'c_absmedia', 'v1_absmode', 'v2_absmode',\n",
      "       'v3_absmode', 'c_absmode', 'v1_absrange', 'v2_absrange', 'v3_absrange',\n",
      "       'c_absrange', 'v1_absstdn', 'v2_absstdn', 'v3_absstdn', 'c_absstdn',\n",
      "       'v1_absvar', 'v2_absvar', 'v3_absvar', 'c_absvar', 'v1_maxvalue',\n",
      "       'v2_maxvalue', 'v3_maxvalue', 'c_maxvalue', 'v1_absmax', 'v2_absmax',\n",
      "       'v3_absmax', 'c_absmax', 'v1_minvalue', 'v2_minvalue', 'v3_minvalue',\n",
      "       'c_minvalue', 'v1_absmin', 'v2_absmin', 'v3_absmin', 'c_absmin',\n",
      "       'tool_age'],\n",
      "      dtype='object') \n",
      " (600, 41)\n",
      "Index(['v1_absmean', 'v2_absmean', 'v3_absmean', 'c_absmean', 'v1_absmedia',\n",
      "       'v2_absmedia', 'v3_absmedia', 'c_absmedia', 'v1_absmode', 'v2_absmode',\n",
      "       'v3_absmode', 'c_absmode', 'v1_absrange', 'v2_absrange', 'v3_absrange',\n",
      "       'c_absrange', 'v1_absstdn', 'v2_absstdn', 'v3_absstdn', 'c_absstdn',\n",
      "       'v1_absvar', 'v2_absvar', 'v3_absvar', 'c_absvar', 'v1_maxvalue',\n",
      "       'v2_maxvalue', 'v3_maxvalue', 'c_maxvalue', 'v1_absmax', 'v2_absmax',\n",
      "       'v3_absmax', 'c_absmax', 'v1_minvalue', 'v2_minvalue', 'v3_minvalue',\n",
      "       'c_minvalue', 'v1_absmin', 'v2_absmin', 'v3_absmin', 'c_absmin',\n",
      "       'tool_age', 'mean_spindel', 'var_spindel', 'range_spindel', 'c_mean',\n",
      "       'c_abs_mean', 'c_var', 'c_abs_var', 'c_range', 'c_abs_range', 'v_mean',\n",
      "       'v_abs_mean', 'v_var', 'v_abs_var', 'v_range', 'v_abs_range'],\n",
      "      dtype='object') (600, 56)\n"
     ]
    }
   ],
   "source": [
    "df_fea_min = pd.read_csv(os.path.join(fea_minute_dire,\"test_min_0\"+str(file_index)+\"_feature.csv\"))\n",
    "df_fea_min.drop(columns=['residual_life'],inplace=True)\n",
    "df_fea_second=pd.read_csv(os.path.join(fea_second_dire,str(file_index)+\"_test_feature.csv\"))\n",
    "\n",
    "df_fea_second['tool_age']=df_fea_second['tool_age']+test_age_list[file_index-1]-5\n",
    "print(df_fea_min.columns,'\\n',df_fea_min.shape)\n",
    "print(df_fea_second.columns,'\\n',df_fea_second.shape)\n",
    "df_feature=pd.merge(df_fea_second,df_fea_min,on=['tool_age'])\n",
    "print(df_feature.columns,df_feature.shape)\n",
    "\n",
    "df_feature.to_csv(os.path.join(fea_minute_dire,str(file_index)+\"_test_feature.csv\"),index=False)"
   ]
  },
  {
   "cell_type": "code",
   "execution_count": null,
   "metadata": {},
   "outputs": [],
   "source": [
    "print('finished')"
   ]
  },
  {
   "cell_type": "code",
   "execution_count": null,
   "metadata": {},
   "outputs": [],
   "source": []
  }
 ],
 "metadata": {
  "kernelspec": {
   "display_name": "Python 3",
   "language": "python",
   "name": "python3"
  },
  "language_info": {
   "codemirror_mode": {
    "name": "ipython",
    "version": 3
   },
   "file_extension": ".py",
   "mimetype": "text/x-python",
   "name": "python",
   "nbconvert_exporter": "python",
   "pygments_lexer": "ipython3",
   "version": "3.6.6"
  }
 },
 "nbformat": 4,
 "nbformat_minor": 2
}
