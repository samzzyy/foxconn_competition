{
 "cells": [
  {
   "cell_type": "code",
   "execution_count": 1,
   "metadata": {},
   "outputs": [],
   "source": [
    "import pandas as pd\n",
    "import os\n",
    "from sklearn import preprocessing\n",
    "from sklearn.svm import SVR\n",
    "import matplotlib.pyplot as plt\n",
    "import numpy as np\n",
    "import xgboost as xgb"
   ]
  },
  {
   "cell_type": "code",
   "execution_count": 2,
   "metadata": {},
   "outputs": [],
   "source": [
    "data_dire=\"../feature\"\n",
    "# columns_drop=[\"s_mean_min5_mean\",\"c_mean_min5_abs_mean\",\"v_mean_min5_mean\",\n",
    "#                           \"s_mean_min5_var\",\"c_mean_min5_abs_var\",\"v_mean_min5_var\",\n",
    "#                           \"s_mean_min5_range\",\"c_mean_min5_abs_range\",\"v_mean_min5_range\",\n",
    "#                           \"s_mean_min5_diff\",\"c_mean_min5_abs_diff\",\"v_mean_min5_diff\",\n",
    "#                           \"s_mean_min10_mean\",\"c_mean_min10_abs_mean\",\"v_mean_min10_mean\",\n",
    "#                           \"s_mean_min10_var\",\"c_mean_min10_abs_var\",\"v_mean_min10_var\",\n",
    "#                           \"s_mean_min10_range\",\"c_mean_min10_abs_range\",\"v_mean_min10_range\",\n",
    "#                           \"s_mean_min10_diff\",\"c_mean_min10_abs_diff\",\"v_mean_min5_diff\",\n",
    "#                           ]\n",
    "# columns_test_drop=[\n",
    "#         'c_mean','c_abs_mean','c_var','c_abs_var','c_range',\n",
    "#         'c_abs_range','v_mean','v_abs_mean','v_var','v_abs_var',\n",
    "#         'v_range','v_abs_range','mean_spindel', 'var_spindel', 'range_spindel'\n",
    "# ]\n",
    "columns_drop=['c1_1min_mean','c2_1min_mean', 'c3_1min_mean', 'c1_1min_var',\n",
    "       'c2_1min_var', 'c3_1min_var', 'c1_1min_range',\n",
    "       'c2_1min_range', 'c3_1min_range', 'mean_spindel','var_spindel', 'range_spindel',\n",
    "              \n",
    "        'v1_minvalue','v2_minvalue', 'v3_minvalue', 'v1_absmin', 'v2_absmin',\n",
    "       'v3_absmin', 'v1_1min_mean','v2_1min_mean', 'v3_1min_mean', 'v1_1min_var',\n",
    "       'v2_1min_var', 'v3_1min_var',  'v1_1min_range','v2_1min_range', 'v3_1min_range']"
   ]
  },
  {
   "cell_type": "code",
   "execution_count": 3,
   "metadata": {},
   "outputs": [],
   "source": [
    "def plt_plot(y_real,y_predicted):\n",
    "    fig = plt.figure()\n",
    "    ax = fig.add_subplot(1, 1, 1)\n",
    "    ax.plot(range(len(y_real)),y_real, color='g')\n",
    "    ax.plot(range(len(y_predicted)),y_predicted,color='r')\n",
    "    plt.show()\n",
    "def Error_compute(y_real,y_predicted):\n",
    "    y_diff=y_real-y_predicted\n",
    "    diff_positive=y_diff[y_diff>0]\n",
    "    diff_negitive_0=y_diff[y_diff<=0]\n",
    "    if diff_negitive_0.shape[0] >0:\n",
    "        sum_negitive_error=sum(np.exp(-np.log(0.5)*(diff_negitive_0/5)))\n",
    "    else:\n",
    "        sum_negitive_error=0\n",
    "    if diff_positive.shape[0] >0:\n",
    "        sum_positive_error=sum(np.exp(np.log(0.5)*(diff_positive/20)))\n",
    "    else:\n",
    "        sum_positive_error=0\n",
    "    return (sum_negitive_error+sum_positive_error)/len(y_real)\n",
    "def cust_loss(y_predicted,y_real):\n",
    "    y_predicted=y_predicted.get_label()\n",
    "    y_diff = y_real - y_predicted\n",
    "    loss = tf.where(tf.greater(y_diff, 0),\n",
    "                    -tf.exp(tf.log(0.5) * (y_diff / 20)) +1,\n",
    "                    -tf.exp(-tf.log(0.5) * (y_diff / 5)) +1)\n",
    "    return loss*tf.reduce_max(abs(y_diff))"
   ]
  },
  {
   "cell_type": "code",
   "execution_count": 4,
   "metadata": {},
   "outputs": [
    {
     "name": "stdout",
     "output_type": "stream",
     "text": [
      "df_train1 (459, 77)\n",
      "df_train2 (2804, 77)\n",
      "df_train3 (2074, 77)\n",
      "(5337, 77) (1045, 77)\n",
      "['c1_absmean', 'c2_absmean', 'c3_absmean', 'c1_absmedia', 'c2_absmedia', 'c3_absmedia', 'c1_absrange', 'c2_absrange', 'c3_absrange', 'c1_absstdn', 'c2_absstdn', 'c3_absstdn', 'c1_absvar', 'c2_absvar', 'c3_absvar', 'c1_maxvalue', 'c2_maxvalue', 'c3_maxvalue', 'c1_absmax', 'c2_absmax', 'c3_absmax', 'c1_minvalue', 'c2_minvalue', 'c3_minvalue', 'c1_absmin', 'c2_absmin', 'c3_absmin', 'tool_age', 'c1_1min_mean', 'c2_1min_mean', 'c3_1min_mean', 'c1_1min_var', 'c2_1min_var', 'c3_1min_var', 'c1_1min_range', 'c2_1min_range', 'c3_1min_range', 'mean_spindel', 'var_spindel', 'range_spindel', 'v1_absmean', 'v2_absmean', 'v3_absmean', 'v1_absmedia', 'v2_absmedia', 'v3_absmedia', 'v1_absrange', 'v2_absrange', 'v3_absrange', 'v1_absstdn', 'v2_absstdn', 'v3_absstdn', 'v1_absvar', 'v2_absvar', 'v3_absvar', 'v1_maxvalue', 'v2_maxvalue', 'v3_maxvalue', 'v1_absmax', 'v2_absmax', 'v3_absmax', 'v1_minvalue', 'v2_minvalue', 'v3_minvalue', 'v1_absmin', 'v2_absmin', 'v3_absmin', 'v1_1min_mean', 'v2_1min_mean', 'v3_1min_mean', 'v1_1min_var', 'v2_1min_var', 'v3_1min_var', 'v1_1min_range', 'v2_1min_range', 'v3_1min_range']\n",
      "(5337, 76) (5337,) (1045, 76) (1045,) (1241, 76) (1241,)\n"
     ]
    }
   ],
   "source": [
    "df_feature = pd.read_csv(os.path.join(data_dire,\"1_v_c_s_feature.csv\"))\n",
    "df_feature = df_feature[:-60]\n",
    "# df_feature.drop(columns=columns_drop,inplace=True)\n",
    "df_train1=df_feature\n",
    "df_train1=df_feature[(df_feature[\"tool_age\"]<=40)]\n",
    "df_test = df_feature[(df_feature[\"tool_age\"]>40)&(df_feature[\"tool_age\"]<=130)]\n",
    "df_validation=df_feature[(df_feature[\"tool_age\"]>130)]\n",
    "print(\"df_train1\",df_train1.shape)\n",
    "\n",
    "df_feature = pd.read_csv(os.path.join(data_dire,\"2_v_c_s_feature.csv\"))\n",
    "# df_feature.drop(columns=columns_drop,inplace=True)\n",
    "df_train2=df_feature\n",
    "# df_train2=df_feature[(df_feature[\"tool_age\"]<=40)]\n",
    "# df_test = df_feature[(df_feature[\"tool_age\"]>40)&(df_feature[\"tool_age\"]<=130)]\n",
    "# df_validation=df_feature[(df_feature[\"tool_age\"]>130)]\n",
    "print(\"df_train2\",df_train2.shape)\n",
    "\n",
    "df_feature = pd.read_csv(os.path.join(data_dire,\"3_v_c_s_feature.csv\"))\n",
    "# df_feature.drop(columns=columns_drop,inplace=True)\n",
    "df_train3=df_feature\n",
    "# df_train3=df_feature[(df_feature[\"tool_age\"]<=40)]\n",
    "# df_test = df_feature[(df_feature[\"tool_age\"]>40)&(df_feature[\"tool_age\"]<=130)]\n",
    "# df_validation=df_feature[(df_feature[\"tool_age\"]>130)]\n",
    "print(\"df_train3\",df_train3.shape)\n",
    "\n",
    "df_train=pd.concat([df_train1,df_train2,df_train3],axis=0)\n",
    "print(df_train.shape,df_test.shape)\n",
    "columns_list=list(df_train.columns)\n",
    "columns_list.remove(\"residual_life\")\n",
    "print(columns_list)\n",
    "min_max_scaler = preprocessing.MinMaxScaler()\n",
    "x_train = min_max_scaler.fit_transform(df_train[columns_list])\n",
    "y_train = df_train[\"residual_life\"]\n",
    "x_test = min_max_scaler.fit_transform(df_test[columns_list])\n",
    "y_test = df_test[\"residual_life\"]\n",
    "x_validation = min_max_scaler.fit_transform(df_validation[columns_list])\n",
    "y_validation = df_validation[\"residual_life\"]\n",
    "print(x_train.shape,y_train.shape,x_test.shape,y_test.shape,x_validation.shape,y_validation.shape)"
   ]
  },
  {
   "cell_type": "code",
   "execution_count": null,
   "metadata": {},
   "outputs": [],
   "source": []
  },
  {
   "cell_type": "code",
   "execution_count": 16,
   "metadata": {},
   "outputs": [
    {
     "data": {
      "text/plain": [
       "Float64Index([5.0, 5.0, 5.0, 5.0, 5.0, 5.0, 5.0, 5.0, 5.0, 5.0,\n",
       "              ...\n",
       "              5.0, 5.0, 5.0, 5.0, 5.0, 5.0, 5.0, 5.0, 5.0, 5.0],\n",
       "             dtype='float64', length=1045)"
      ]
     },
     "execution_count": 16,
     "metadata": {},
     "output_type": "execute_result"
    }
   ],
   "source": [
    "param = {'max_depth':10, 'eta':1, 'silent':1, 'objective':'multi:softprob','num_class':48 }\n",
    "num_round = 2\n",
    "dtrain = xgb.DMatrix( x_train,pd.get_dummies(y_train).values)\n",
    "xgb_regressor = xgb.train(param ,dtrain , num_round)\n",
    "print(\"train finished\")\n",
    "\n",
    "dtest = xgb.DMatrix(x_test)\n",
    "y_predicted=xgb_regressor.predict(dtest).reshape( x_test.shape[0], 48 )  \n",
    "ylabel = np.argmax(y_predicted, axis=1)\n",
    "pd.get_dummies(y_train).columns[ylabel]\n",
    "# df_result=pd.DataFrame({\"real\":y_test,\"predicted\":y_predicted})\n",
    "# df_predict=df_result[\"predicted\"].groupby(df_result['real']).mean()\n",
    "# df_predict=df_predict.sort_index(ascending=False\n",
    "# err=Error_compute(df_predict.index,df_predict)\n",
    "# print(err)\n",
    "# plt_plot(df_predict.index,df_predict)"
   ]
  },
  {
   "cell_type": "code",
   "execution_count": null,
   "metadata": {},
   "outputs": [],
   "source": []
  }
 ],
 "metadata": {
  "kernelspec": {
   "display_name": "Python 3",
   "language": "python",
   "name": "python3"
  },
  "language_info": {
   "codemirror_mode": {
    "name": "ipython",
    "version": 3
   },
   "file_extension": ".py",
   "mimetype": "text/x-python",
   "name": "python",
   "nbconvert_exporter": "python",
   "pygments_lexer": "ipython3",
   "version": "3.6.6"
  }
 },
 "nbformat": 4,
 "nbformat_minor": 2
}
