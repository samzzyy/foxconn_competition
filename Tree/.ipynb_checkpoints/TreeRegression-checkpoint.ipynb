{
 "cells": [
  {
   "cell_type": "code",
   "execution_count": 1,
   "metadata": {},
   "outputs": [],
   "source": [
    "from sklearn import tree\n",
    "import pandas as pd\n",
    "import os\n",
    "from sklearn import preprocessing\n",
    "import matplotlib.pyplot as plt\n",
    "import numpy as np"
   ]
  },
  {
   "cell_type": "code",
   "execution_count": null,
   "metadata": {},
   "outputs": [],
   "source": [
    "def plt_plot(y_real,y_predicted):\n",
    "    fig = plt.figure()\n",
    "    ax = fig.add_subplot(1, 1, 1)\n",
    "    ax.plot(range(len(y_real)),y_real, color='g')\n",
    "    ax.plot(range(len(y_predicted)),y_predicted,color='r')\n",
    "    plt.show()\n",
    "def Error_compute(y_real,y_predicted):\n",
    "    y_diff=y_real-y_predicted\n",
    "    diff_positive=y_diff[y_diff>0]\n",
    "    diff_negitive_0=y_diff[y_diff<=0]\n",
    "    if diff_negitive_0.shape[0] >0:\n",
    "        sum_negitive_error=sum(np.exp(-np.log(0.5)*(diff_negitive_0/5)))\n",
    "    else:\n",
    "        sum_negitive_error=0\n",
    "    if diff_positive.shape[0] >0:\n",
    "        sum_positive_error=sum(np.exp(np.log(0.5)*(diff_positive/20)))\n",
    "    else:\n",
    "        sum_positive_error=0\n",
    "    return (sum_negitive_error+sum_positive_error)/len(y_real)"
   ]
  },
  {
   "cell_type": "code",
   "execution_count": null,
   "metadata": {},
   "outputs": [],
   "source": [
    "data_dire=\"../feature\"\n",
    "columns_drop=['c1_1min_mean','c2_1min_mean', 'c3_1min_mean', 'c1_1min_var',\n",
    "       'c2_1min_var', 'c3_1min_var', 'c1_1min_range',\n",
    "       'c2_1min_range', 'c3_1min_range', 'mean_spindel','var_spindel', 'range_spindel',\n",
    "              \n",
    "        'v1_minvalue','v2_minvalue', 'v3_minvalue', 'v1_absmin', 'v2_absmin',\n",
    "       'v3_absmin', 'v1_1min_mean','v2_1min_mean', 'v3_1min_mean', 'v1_1min_var',\n",
    "       'v2_1min_var', 'v3_1min_var',  'v1_1min_range','v2_1min_range', 'v3_1min_range']"
   ]
  },
  {
   "cell_type": "code",
   "execution_count": null,
   "metadata": {},
   "outputs": [],
   "source": [
    "df_feature = pd.read_csv(os.path.join(data_dire,\"1_v_c_s_feature.csv\"))\n",
    "df_feature = df_feature[:-60]\n",
    "# df_feature.drop(columns=columns_drop,inplace=True)\n",
    "df_train1=df_feature\n",
    "df_train1=df_feature[(df_feature[\"tool_age\"]<=40)]\n",
    "df_test = df_feature[(df_feature[\"tool_age\"]>40)&(df_feature[\"tool_age\"]<=130)]\n",
    "df_validation=df_feature[(df_feature[\"tool_age\"]>130)]\n",
    "print(\"df_train1\",df_train1.shape)\n",
    "\n",
    "df_feature = pd.read_csv(os.path.join(data_dire,\"2_v_c_s_feature.csv\"))\n",
    "# df_feature.drop(columns=columns_drop,inplace=True)\n",
    "df_train2=df_feature\n",
    "# df_train2=df_feature[(df_feature[\"tool_age\"]<=40)]\n",
    "# df_test = df_feature[(df_feature[\"tool_age\"]>40)&(df_feature[\"tool_age\"]<=130)]\n",
    "# df_validation=df_feature[(df_feature[\"tool_age\"]>130)]\n",
    "print(\"df_train2\",df_train2.shape)\n",
    "\n",
    "df_feature = pd.read_csv(os.path.join(data_dire,\"3_v_c_s_feature.csv\"))\n",
    "# df_feature.drop(columns=columns_drop,inplace=True)\n",
    "df_train3=df_feature\n",
    "# df_train3=df_feature[(df_feature[\"tool_age\"]<=40)]\n",
    "# df_test = df_feature[(df_feature[\"tool_age\"]>40)&(df_feature[\"tool_age\"]<=130)]\n",
    "# df_validation=df_feature[(df_feature[\"tool_age\"]>130)]\n",
    "print(\"df_train3\",df_train3.shape)\n",
    "\n",
    "df_train=pd.concat([df_train1,df_train2,df_train3],axis=0)\n",
    "print(df_train.shape,df_test.shape)\n",
    "columns_list=list(df_train.columns)\n",
    "columns_list.remove(\"residual_life\")\n",
    "print(columns_list)\n",
    "min_max_scaler = preprocessing.MinMaxScaler()\n",
    "x_train = min_max_scaler.fit_transform(df_train[columns_list])\n",
    "y_train = df_train[\"residual_life\"]\n",
    "x_test = min_max_scaler.fit_transform(df_test[columns_list])\n",
    "y_test = df_test[\"residual_life\"]\n",
    "x_validation = min_max_scaler.fit_transform(df_validation[columns_list])\n",
    "y_validation = df_validation[\"residual_life\"]\n",
    "print(x_train.shape,y_train.shape,x_test.shape,y_test.shape,x_validation.shape,y_validation.shape)"
   ]
  },
  {
   "cell_type": "code",
   "execution_count": null,
   "metadata": {},
   "outputs": [],
   "source": [
    "clf = tree.DecisionTreeRegressor()\n",
    "\n",
    "clf = clf.fit(x_train, y_train)\n",
    "\n",
    "y_predicted=clf.predict(x_test)\n",
    "df_result=pd.DataFrame({\"real\":y_test,\"predicted\":y_predicted})\n",
    "df_predict=df_result[\"predicted\"].groupby(df_result['real']).mean()\n",
    "err=Error_compute(df_predict.index,df_predict)\n",
    "df_predict=df_predict.sort_index(ascending=False)\n",
    "print(err)\n",
    "plt_plot(df_predict.index,df_predict)"
   ]
  }
 ],
 "metadata": {
  "kernelspec": {
   "display_name": "Python 3",
   "language": "python",
   "name": "python3"
  },
  "language_info": {
   "codemirror_mode": {
    "name": "ipython",
    "version": 3
   },
   "file_extension": ".py",
   "mimetype": "text/x-python",
   "name": "python",
   "nbconvert_exporter": "python",
   "pygments_lexer": "ipython3",
   "version": "3.6.6"
  }
 },
 "nbformat": 4,
 "nbformat_minor": 2
}
