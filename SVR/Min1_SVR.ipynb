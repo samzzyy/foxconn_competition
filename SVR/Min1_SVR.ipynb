{
 "cells": [
  {
   "cell_type": "code",
   "execution_count": 30,
   "metadata": {},
   "outputs": [],
   "source": [
    "import pandas as pd\n",
    "import os\n",
    "from sklearn import preprocessing\n",
    "from sklearn.svm import SVR\n",
    "import matplotlib.pyplot as plt\n",
    "import numpy as np"
   ]
  },
  {
   "cell_type": "code",
   "execution_count": 31,
   "metadata": {},
   "outputs": [],
   "source": [
    "data_dire=\"../feature\"\n",
    "# columns_drop=[\"s_mean_min5_mean\",\"c_mean_min5_abs_mean\",\"v_mean_min5_mean\",\n",
    "#                           \"s_mean_min5_var\",\"c_mean_min5_abs_var\",\"v_mean_min5_var\",\n",
    "#                           \"s_mean_min5_range\",\"c_mean_min5_abs_range\",\"v_mean_min5_range\",\n",
    "#                           \"s_mean_min5_diff\",\"c_mean_min5_abs_diff\",\"v_mean_min5_diff\",\n",
    "#                           \"s_mean_min10_mean\",\"c_mean_min10_abs_mean\",\"v_mean_min10_mean\",\n",
    "#                           \"s_mean_min10_var\",\"c_mean_min10_abs_var\",\"v_mean_min10_var\",\n",
    "#                           \"s_mean_min10_range\",\"c_mean_min10_abs_range\",\"v_mean_min10_range\",\n",
    "#                           \"s_mean_min10_diff\",\"c_mean_min10_abs_diff\",\"v_mean_min5_diff\",\n",
    "#                           ]\n",
    "columns_drop=['c1_1min_mean','c2_1min_mean', 'c3_1min_mean', 'c1_1min_var',\n",
    "       'c2_1min_var', 'c3_1min_var', 'c1_1min_range',\n",
    "       'c2_1min_range', 'c3_1min_range', 'mean_spindel','var_spindel', 'range_spindel',\n",
    "              \n",
    "        'v1_minvalue','v2_minvalue', 'v3_minvalue', 'v1_absmin', 'v2_absmin',\n",
    "       'v3_absmin', 'v1_1min_mean','v2_1min_mean', 'v3_1min_mean', 'v1_1min_var',\n",
    "       'v2_1min_var', 'v3_1min_var',  'v1_1min_range','v2_1min_range', 'v3_1min_range']"
   ]
  },
  {
   "cell_type": "code",
   "execution_count": 32,
   "metadata": {},
   "outputs": [],
   "source": [
    "def plt_plot(y_real,y_predicted):\n",
    "    fig = plt.figure()\n",
    "    ax = fig.add_subplot(1, 1, 1)\n",
    "    ax.plot(range(len(y_real)),y_real, color='g')\n",
    "    ax.plot(range(len(y_predicted)),y_predicted,color='r')\n",
    "    plt.show()\n",
    "def Error_compute(y_real,y_predicted):\n",
    "    y_diff=y_real-y_predicted\n",
    "    diff_positive=y_diff[y_diff>0]\n",
    "    diff_negitive_0=y_diff[y_diff<=0]\n",
    "    if diff_negitive_0.shape[0] >0:\n",
    "        sum_negitive_error=sum(np.exp(-np.log(0.5)*(diff_negitive_0/5)))\n",
    "    else:\n",
    "        sum_negitive_error=0\n",
    "    if diff_positive.shape[0] >0:\n",
    "        sum_positive_error=sum(np.exp(np.log(0.5)*(diff_positive/20)))\n",
    "    else:\n",
    "        sum_positive_error=0\n",
    "    return (sum_negitive_error+sum_positive_error)/len(y_real)"
   ]
  },
  {
   "cell_type": "code",
   "execution_count": 150,
   "metadata": {},
   "outputs": [
    {
     "name": "stdout",
     "output_type": "stream",
     "text": [
      "['c1_absmean', 'c2_absmean', 'c3_absmean', 'c1_absmedia', 'c2_absmedia', 'c3_absmedia', 'c1_absrange', 'c2_absrange', 'c3_absrange', 'c1_absstdn', 'c2_absstdn', 'c3_absstdn', 'c1_absvar', 'c2_absvar', 'c3_absvar', 'c1_maxvalue', 'c2_maxvalue', 'c3_maxvalue', 'c1_absmax', 'c2_absmax', 'c3_absmax', 'c1_minvalue', 'c2_minvalue', 'c3_minvalue', 'c1_absmin', 'c2_absmin', 'c3_absmin', 'tool_age', 'c1_1min_mean', 'c2_1min_mean', 'c3_1min_mean', 'c1_1min_var', 'c2_1min_var', 'c3_1min_var', 'c1_1min_range', 'c2_1min_range', 'c3_1min_range', 'mean_spindel', 'var_spindel', 'range_spindel', 'v1_absmean', 'v2_absmean', 'v3_absmean', 'v1_absmedia', 'v2_absmedia', 'v3_absmedia', 'v1_absrange', 'v2_absrange', 'v3_absrange', 'v1_absstdn', 'v2_absstdn', 'v3_absstdn', 'v1_absvar', 'v2_absvar', 'v3_absvar', 'v1_maxvalue', 'v2_maxvalue', 'v3_maxvalue', 'v1_absmax', 'v2_absmax', 'v3_absmax', 'v1_minvalue', 'v2_minvalue', 'v3_minvalue', 'v1_absmin', 'v2_absmin', 'v3_absmin', 'v1_1min_mean', 'v2_1min_mean', 'v3_1min_mean', 'v1_1min_var', 'v2_1min_var', 'v3_1min_var', 'v1_1min_range', 'v2_1min_range', 'v3_1min_range']\n",
      "(5337, 77) (5337,) (1045, 77) (1045,) (1241, 77) (1241,)\n"
     ]
    }
   ],
   "source": [
    "df_train=pd.DataFrame([])\n",
    "test_index=1\n",
    "for dire_index in [1,2,3]:\n",
    "    df_feature = pd.read_csv(os.path.join(data_dire,\"%d_v_c_s_feature.csv\"%dire_index))\n",
    "    df_cnn_result=pd.read_csv(\"../CNN/%d_cnn_predicted.csv\"%dire_index)\n",
    "    df_cnn_result=df_cnn_result/100\n",
    "    if dire_index ==1:\n",
    "        df_feature = df_feature[:-60]\n",
    "    df_feature=pd.concat([df_feature,df_cnn_result[:df_feature.shape[0]]],axis=1)\n",
    "    \n",
    "#     df_feature.drop(columns=columns_drop,inplace=True)\n",
    "    if dire_index == test_index:\n",
    "        df_train1=df_feature[(df_feature[\"tool_age\"]<=40)]\n",
    "        df_test = df_feature[(df_feature[\"tool_age\"]>40)&(df_feature[\"tool_age\"]<=130)]\n",
    "        df_validation=df_feature[(df_feature[\"tool_age\"]>130)]\n",
    "        df_train=df_train.append(df_train1)\n",
    "    else:\n",
    "        df_train=df_train.append(df_feature)\n",
    "columns_list=list(df_train.columns)\n",
    "columns_list.remove(\"residual_life\")\n",
    "columns_list.remove(\"predicted\")\n",
    "print(columns_list)\n",
    "min_max_scaler = preprocessing.MinMaxScaler()\n",
    "\n",
    "x_train = min_max_scaler.fit_transform(df_train[columns_list])\n",
    "x_train = np.concatenate((x_train,df_train[\"predicted\"].values.reshape(x_train.shape[0],-1)),axis=1)\n",
    "y_train = df_train[\"residual_life\"]\n",
    "\n",
    "x_test = min_max_scaler.fit_transform(df_test[columns_list])\n",
    "x_test = np.concatenate((x_test,df_test[\"predicted\"].values.reshape(x_test.shape[0],-1)),axis=1)\n",
    "y_test = df_test[\"residual_life\"]\n",
    "\n",
    "x_validation = min_max_scaler.fit_transform(df_validation[columns_list])\n",
    "x_validation = np.concatenate((x_validation,df_validation[\"predicted\"].values.reshape(x_validation.shape[0],-1)),axis=1)\n",
    "y_validation = df_validation[\"residual_life\"]\n",
    "print(x_train.shape,y_train.shape,x_test.shape,y_test.shape,x_validation.shape,y_validation.shape)"
   ]
  },
  {
   "cell_type": "code",
   "execution_count": 151,
   "metadata": {},
   "outputs": [
    {
     "name": "stdout",
     "output_type": "stream",
     "text": [
      "SVR(C=1.0, cache_size=200, coef0=0.0, degree=3, epsilon=0.1, gamma='auto',\n",
      "  kernel='rbf', max_iter=-1, shrinking=True, tol=0.001, verbose=False)\n",
      "fit finished\n"
     ]
    }
   ],
   "source": [
    "# clf = SVR(gamma=100,C=0.9)\n",
    "clf=SVR()\n",
    "print(clf)\n",
    "clf.fit(x_train, y_train)\n",
    "print(\"fit finished\")\n"
   ]
  },
  {
   "cell_type": "code",
   "execution_count": 152,
   "metadata": {},
   "outputs": [
    {
     "data": {
      "image/png": "[encoded data removed]",
      "text/plain": [
       "<Figure size 432x288 with 1 Axes>"
      ]
     },
     "metadata": {
      "needs_background": "light"
     },
     "output_type": "display_data"
    }
   ],
   "source": [
    "y_predicted=clf.predict(x_test)\n",
    "\n",
    "df_result=pd.DataFrame({\"real\":y_test,\"predicted\":y_predicted})\n",
    "plt_plot(y_test,y_predicted)"
   ]
  },
  {
   "cell_type": "code",
   "execution_count": 159,
   "metadata": {},
   "outputs": [
    {
     "name": "stdout",
     "output_type": "stream",
     "text": [
      "0.6498218365014279\n"
     ]
    },
    {
     "data": {
      "image/png": "[encoded data removed]",
      "text/plain": [
       "<Figure size 432x288 with 1 Axes>"
      ]
     },
     "metadata": {
      "needs_background": "light"
     },
     "output_type": "display_data"
    }
   ],
   "source": [
    "df_predict=df_result[\"predicted\"].groupby(df_result['real']).mean()\n",
    "df_predict=df_predict+15\n",
    "err=Error_compute(df_predict.index,df_predict)\n",
    "df_predict=df_predict.sort_index(ascending=False)\n",
    "print(err)\n",
    "plt_plot(df_predict.index,df_predict)"
   ]
  },
  {
   "cell_type": "code",
   "execution_count": null,
   "metadata": {},
   "outputs": [],
   "source": []
  },
  {
   "cell_type": "code",
   "execution_count": 98,
   "metadata": {
    "collapsed": true
   },
   "outputs": [
    {
     "name": "stdout",
     "output_type": "stream",
     "text": [
      "[0, -52.969229419529626, -26.356611991672395, 15.686012107297103, 0.3585118124433393, -11.697557061908128, -11.053067600944644, 8.54994636037921, -1.899491967719655, -5.520514564684106, -9.294019049809549, -2.903617721428489, 3.299811028367813, -1.2417184480134438, -22.934638970267272, 9.10610599069004, -4.197204140430102, -3.174152641090231] 18 (18,)\n",
      "2 -100.26626024189547 701.4348163246907 0.014056101515611114 9.859438984843889 -6.33907222497271\n",
      "3 -126.5802046608704 467.6268519266469 0.02064863258382319 9.655855051763224 -7.510464975508341\n",
      "4 -100.36220274248217 683.4885670877661 0.013930509636012781 9.521344069920692 -6.328444084215552\n",
      "5 -96.74999710235491 589.1369477674464 0.015904472049820505 9.369912119283915 -6.459235264485516\n",
      "6 -108.28776975819903 491.07511175497825 0.018723159732402742 9.194477757995985 -6.933873411586398\n",
      "7 -119.13463571753171 421.1766390634306 0.021364067890761916 8.998046310954058 -7.438380106156727\n",
      "8 -107.97966138077805 416.0327544843566 0.0211703394062667 8.807554616557855 -7.180114383373487\n",
      "9 -109.01406918110635 375.79385780835327 0.0229004739244878 8.60585744172287 -7.3819714790617965\n",
      "10 -114.20461867157383 339.1943645793431 0.02474368012681033 8.392916857967949 -7.702124152779722\n",
      "11 -123.57171215930843 308.41191198872883 0.026492389300130637 8.170568437203032 -8.141247958507432\n",
      "12 -126.00369180164272 285.15778657716976 0.027854683318299326 7.94297984085425 -8.37051951547985\n",
      "13 -121.82761557174932 272.43666066593585 0.02832937450985101 7.717960190218493 -8.309653274624988\n",
      "14 -122.64264452391093 255.34373022611143 0.029338974359983012 7.491523154086303 -8.451514531327618\n",
      "15 -146.6536806325902 254.5416460718455 0.028589980330417323 7.2773406544661094 -9.049875943016971\n",
      "16 -136.4868755779508 255.5090307563001 0.02769299113724115 7.075809324219295 -8.641264880043721\n",
      "17 -140.53071643437386 240.85541252073816 0.028539404079749652 6.8738699427241405 -8.867965881538563\n",
      "18 -143.51170996193898 228.1088338029291 0.029252663422259628 6.672790938881244 -9.051836431558247\n",
      "0.09251822662055019\n",
      "[153.6609277750273, 147.48953502449166, 143.67155591578444, 138.54076473551447, 133.0661265884136, 127.56161989384327, 122.81988561662651, 117.6180285209382, 112.29787584722028, 106.85875204149256, 101.62948048452014, 96.69034672537501, 91.54848546867238, 85.95012405698303, 81.35873511995628, 76.13203411846143, 70.94816356844176]\n"
     ]
    },
    {
     "data": {
      "image/png": "[encoded data removed]",
      "text/plain": [
       "<Figure size 432x288 with 1 Axes>"
      ]
     },
     "metadata": {
      "needs_background": "light"
     },
     "output_type": "display_data"
    }
   ],
   "source": [
    "# print(df_predict)\n",
    "predict_dif_list=[0]\n",
    "for _ in df_predict.index[:-1]:\n",
    "    predict_dif_list.append(df_predict[_-5]-df_predict[_])\n",
    "print(predict_dif_list,len(predict_dif_list),df_predict.shape)\n",
    "\n",
    "dif_k_1=10\n",
    "v_k_list=[]\n",
    "for _ in range(2,len(predict_dif_list)+1):\n",
    "    Z_k=np.mean(predict_dif_list[0:_]-(240-df_predict[df_predict.index[_-1]]))\n",
    "    R_k=np.var(predict_dif_list[0:_])\n",
    "    K_=dif_k_1/(dif_k_1+R_k)\n",
    "#     v_k=(-5-(210-df_predict[df_predict.index[_-1]]))+(K_*(Z_k-(-5)))\n",
    "    v_k=-5+(K_*(Z_k-(-5)))\n",
    "    dif_k_1=(1-K_)*dif_k_1\n",
    "    \n",
    "    v_k_list.append(210-(40+_*5)+v_k)\n",
    "    print(_,Z_k,R_k,K_,dif_k_1,v_k)\n",
    "err=Error_compute(np.array(df_predict.index[1:]),v_k_list)\n",
    "print(err)\n",
    "print(v_k_list)\n",
    "plt_plot(df_predict.index,np.array(v_k_list))\n"
   ]
  },
  {
   "cell_type": "code",
   "execution_count": null,
   "metadata": {},
   "outputs": [],
   "source": []
  },
  {
   "cell_type": "code",
   "execution_count": 146,
   "metadata": {},
   "outputs": [
    {
     "name": "stdout",
     "output_type": "stream",
     "text": [
      "(6002, 50) (1074, 50)\n",
      "['c1_absmean', 'c2_absmean', 'c3_absmean', 'c1_absmedia', 'c2_absmedia', 'c3_absmedia', 'c1_absrange', 'c2_absrange', 'c3_absrange', 'c1_absstdn', 'c2_absstdn', 'c3_absstdn', 'c1_absvar', 'c2_absvar', 'c3_absvar', 'c1_maxvalue', 'c2_maxvalue', 'c3_maxvalue', 'c1_absmax', 'c2_absmax', 'c3_absmax', 'c1_minvalue', 'c2_minvalue', 'c3_minvalue', 'c1_absmin', 'c2_absmin', 'c3_absmin', 'tool_age', 'v1_absmean', 'v2_absmean', 'v3_absmean', 'v1_absmedia', 'v2_absmedia', 'v3_absmedia', 'v1_absrange', 'v2_absrange', 'v3_absrange', 'v1_absstdn', 'v2_absstdn', 'v3_absstdn', 'v1_absvar', 'v2_absvar', 'v3_absvar', 'v1_maxvalue', 'v2_maxvalue', 'v3_maxvalue', 'v1_absmax', 'v2_absmax', 'v3_absmax']\n",
      "(6002, 49) (6002,) (1074, 49) (1074,) (547, 49) (547,)\n"
     ]
    }
   ],
   "source": [
    "df_feature = pd.read_csv(os.path.join(data_dire,\"1_v_c_s_feature.csv\"))\n",
    "df_feature = df_feature[:-60]\n",
    "df_feature[\"residual_life\"]=(48*5)-df_feature['tool_age']\n",
    "df_feature.drop(columns=columns_drop,inplace=True)\n",
    "df_train1=df_feature\n",
    "# df_train1=df_feature[(df_feature[\"tool_age\"]<=40)]\n",
    "# df_test = df_feature[(df_feature[\"tool_age\"]>40)&(df_feature[\"tool_age\"]<=130)]\n",
    "# df_validation=df_feature[(df_feature[\"tool_age\"]>130)]\n",
    "\n",
    "df_feature = pd.read_csv(os.path.join(data_dire,\"2_v_c_s_feature.csv\"))\n",
    "df_feature[\"residual_life\"]=(48*5)-df_feature['tool_age']\n",
    "df_feature.drop(columns=columns_drop,inplace=True)\n",
    "df_train2=df_feature\n",
    "# df_train2=df_feature[(df_feature[\"tool_age\"]<=40)]\n",
    "# df_test = df_feature[(df_feature[\"tool_age\"]>40)&(df_feature[\"tool_age\"]<=130)]\n",
    "# df_validation=df_feature[(df_feature[\"tool_age\"]>130)]\n",
    "\n",
    "df_feature = pd.read_csv(os.path.join(data_dire,\"3_v_c_s_feature.csv\"))\n",
    "df_feature[\"residual_life\"]=(37*5)-df_feature['tool_age']\n",
    "df_feature.drop(columns=columns_drop,inplace=True)\n",
    "df_train3=df_feature\n",
    "df_train3=df_feature[(df_feature[\"tool_age\"]<=40)]\n",
    "df_test = df_feature[(df_feature[\"tool_age\"]>40)&(df_feature[\"tool_age\"]<=130)]\n",
    "df_validation=df_feature[(df_feature[\"tool_age\"]>130)]\n",
    "\n",
    "df_train=pd.concat([df_train1,df_train2],axis=0)\n",
    "df_train=pd.concat([df_train,df_train3],axis=0)\n",
    "print(df_train.shape,df_test.shape)\n",
    "columns_list=list(df_train.columns)\n",
    "columns_list.remove(\"residual_life\")\n",
    "print(columns_list)\n",
    "min_max_scaler = preprocessing.MinMaxScaler()\n",
    "x_train = min_max_scaler.fit_transform(df_train[columns_list])\n",
    "y_train = df_train[\"residual_life\"]\n",
    "x_test = min_max_scaler.fit_transform(df_test[columns_list])\n",
    "y_test = df_test[\"residual_life\"]\n",
    "x_validation = min_max_scaler.fit_transform(df_validation[columns_list])\n",
    "y_validation = df_validation[\"residual_life\"]                         \n",
    "print(x_train.shape,y_train.shape,x_test.shape,y_test.shape,x_validation.shape,y_validation.shape)"
   ]
  },
  {
   "cell_type": "code",
   "execution_count": null,
   "metadata": {},
   "outputs": [],
   "source": []
  }
 ],
 "metadata": {
  "kernelspec": {
   "display_name": "Python 3",
   "language": "python",
   "name": "python3"
  },
  "language_info": {
   "codemirror_mode": {
    "name": "ipython",
    "version": 3
   },
   "file_extension": ".py",
   "mimetype": "text/x-python",
   "name": "python",
   "nbconvert_exporter": "python",
   "pygments_lexer": "ipython3",
   "version": "3.6.6"
  }
 },
 "nbformat": 4,
 "nbformat_minor": 2
}
