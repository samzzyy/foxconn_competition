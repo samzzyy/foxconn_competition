{
 "cells": [
  {
   "cell_type": "code",
   "execution_count": null,
   "metadata": {},
   "outputs": [],
   "source": [
    "import pandas as pd\n",
    "import os\n",
    "from sklearn import preprocessing\n",
    "from sklearn.svm import SVR\n",
    "import matplotlib.pyplot as plt\n",
    "import numpy as np\n",
    "\n",
    "data_dire=\"feature\"\n",
    "columns_drop=[\"s_mean_min5_mean\",\"c_mean_min5_abs_mean\",\"v_mean_min5_mean\",\n",
    "                          \"s_mean_min5_var\",\"c_mean_min5_abs_var\",\"v_mean_min5_var\",\n",
    "                          \"s_mean_min5_range\",\"c_mean_min5_abs_range\",\"v_mean_min5_range\",\n",
    "                          \"s_mean_min5_diff\",\"c_mean_min5_abs_diff\",\"v_mean_min5_diff\",\n",
    "                          \"s_mean_min10_mean\",\"c_mean_min10_abs_mean\",\"v_mean_min10_mean\",\n",
    "                          \"s_mean_min10_var\",\"c_mean_min10_abs_var\",\"v_mean_min10_var\",\n",
    "                          \"s_mean_min10_range\",\"c_mean_min10_abs_range\",\"v_mean_min10_range\",\n",
    "                          \"s_mean_min10_diff\",\"c_mean_min10_abs_diff\",\"v_mean_min5_diff\",\n",
    "                          ]\n",
    "\n",
    "def plt_plot(y_real,y_predicted):\n",
    "    fig = plt.figure()\n",
    "    ax = fig.add_subplot(1, 1, 1)\n",
    "    ax.plot(range(len(y_real)),y_real, color='g')\n",
    "    ax.plot(range(len(y_predicted)),y_predicted,color='r')\n",
    "    plt.show()\n",
    "def Error_compute(y_real,y_predicted):\n",
    "    y_diff=y_real-y_predicted\n",
    "    diff_positive=y_diff[y_diff>0]\n",
    "    diff_negitive_0=y_diff[y_diff<=0]\n",
    "    if diff_negitive_0.shape[0] >0:\n",
    "        sum_negitive_error=sum(np.exp(-np.log(0.5)*(diff_negitive_0/5)))\n",
    "    else:\n",
    "        sum_negitive_error=0\n",
    "    if diff_positive.shape[0] >0:\n",
    "        sum_positive_error=sum(np.exp(np.log(0.5)*(diff_positive/20)))\n",
    "    else:\n",
    "        sum_positive_error=0\n",
    "    return (sum_negitive_error+sum_positive_error)/len(y_real)"
   ]
  }
 ],
 "metadata": {
  "kernelspec": {
   "display_name": "Python 3",
   "language": "python",
   "name": "python3"
  },
  "language_info": {
   "codemirror_mode": {
    "name": "ipython",
    "version": 3
   },
   "file_extension": ".py",
   "mimetype": "text/x-python",
   "name": "python",
   "nbconvert_exporter": "python",
   "pygments_lexer": "ipython3",
   "version": "3.6.6"
  }
 },
 "nbformat": 4,
 "nbformat_minor": 2
}
