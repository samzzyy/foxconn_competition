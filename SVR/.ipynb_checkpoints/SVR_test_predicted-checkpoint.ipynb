{
 "cells": [
  {
   "cell_type": "code",
   "execution_count": 1,
   "metadata": {},
   "outputs": [],
   "source": [
    "import pandas as pd\n",
    "import os\n",
    "from sklearn import preprocessing\n",
    "from sklearn.svm import SVR\n",
    "import matplotlib.pyplot as plt\n",
    "import numpy as np"
   ]
  },
  {
   "cell_type": "code",
   "execution_count": 2,
   "metadata": {},
   "outputs": [],
   "source": [
    "data_dire=\"../feature\"\n",
    "fea_minute_dire=\"../feature/testFeature/\"\n",
    "columns_drop=['c1_1min_mean','c2_1min_mean', 'c3_1min_mean', 'c1_1min_var',\n",
    "       'c2_1min_var', 'c3_1min_var', 'c1_1min_range',\n",
    "       'c2_1min_range', 'c3_1min_range', 'mean_spindel','var_spindel', 'range_spindel',\n",
    "              \n",
    "        'v1_minvalue','v2_minvalue', 'v3_minvalue', 'v1_absmin', 'v2_absmin',\n",
    "       'v3_absmin', 'v1_1min_mean','v2_1min_mean', 'v3_1min_mean', 'v1_1min_var',\n",
    "       'v2_1min_var', 'v3_1min_var',  'v1_1min_range','v2_1min_range', 'v3_1min_range']"
   ]
  },
  {
   "cell_type": "code",
   "execution_count": 3,
   "metadata": {},
   "outputs": [],
   "source": [
    "def plt_plot(y_real,y_predicted):\n",
    "    fig = plt.figure()\n",
    "    ax = fig.add_subplot(1, 1, 1)\n",
    "    ax.plot(range(len(y_real)),y_real, color='g')\n",
    "    ax.plot(range(len(y_predicted)),y_predicted,color='r')\n",
    "    plt.show()\n",
    "def Error_compute(y_real,y_predicted):\n",
    "    y_diff=y_real-y_predicted\n",
    "    diff_positive=y_diff[y_diff>0]\n",
    "    diff_negitive_0=y_diff[y_diff<=0]\n",
    "    if diff_negitive_0.shape[0] >0:\n",
    "        sum_negitive_error=sum(np.exp(-np.log(0.5)*(diff_negitive_0/5)))\n",
    "    else:\n",
    "        sum_negitive_error=0\n",
    "    if diff_positive.shape[0] >0:\n",
    "        sum_positive_error=sum(np.exp(np.log(0.5)*(diff_positive/20)))\n",
    "    else:\n",
    "        sum_positive_error=0\n",
    "    return (sum_negitive_error+sum_positive_error)/len(y_real)"
   ]
  },
  {
   "cell_type": "code",
   "execution_count": 4,
   "metadata": {},
   "outputs": [
    {
     "name": "stdout",
     "output_type": "stream",
     "text": [
      "Index(['c1_absmean', 'c2_absmean', 'c3_absmean', 'c1_absmedia', 'c2_absmedia',\n",
      "       'c3_absmedia', 'c1_absrange', 'c2_absrange', 'c3_absrange',\n",
      "       'c1_absstdn', 'c2_absstdn', 'c3_absstdn', 'c1_absvar', 'c2_absvar',\n",
      "       'c3_absvar', 'c1_maxvalue', 'c2_maxvalue', 'c3_maxvalue', 'c1_absmax',\n",
      "       'c2_absmax', 'c3_absmax', 'c1_minvalue', 'c2_minvalue', 'c3_minvalue',\n",
      "       'c1_absmin', 'c2_absmin', 'c3_absmin', 'tool_age', 'residual_life',\n",
      "       'c1_1min_mean', 'c2_1min_mean', 'c3_1min_mean', 'c1_1min_var',\n",
      "       'c2_1min_var', 'c3_1min_var', 'c1_1min_range', 'c2_1min_range',\n",
      "       'c3_1min_range', 'mean_spindel', 'var_spindel', 'range_spindel',\n",
      "       'v1_absmean', 'v2_absmean', 'v3_absmean', 'v1_absmedia', 'v2_absmedia',\n",
      "       'v3_absmedia', 'v1_absrange', 'v2_absrange', 'v3_absrange',\n",
      "       'v1_absstdn', 'v2_absstdn', 'v3_absstdn', 'v1_absvar', 'v2_absvar',\n",
      "       'v3_absvar', 'v1_maxvalue', 'v2_maxvalue', 'v3_maxvalue', 'v1_absmax',\n",
      "       'v2_absmax', 'v3_absmax', 'v1_minvalue', 'v2_minvalue', 'v3_minvalue',\n",
      "       'v1_absmin', 'v2_absmin', 'v3_absmin', 'v1_1min_mean', 'v2_1min_mean',\n",
      "       'v3_1min_mean', 'v1_1min_var', 'v2_1min_var', 'v3_1min_var',\n",
      "       'v1_1min_range', 'v2_1min_range', 'v3_1min_range'],\n",
      "      dtype='object') (7623, 77)\n",
      "(7623, 76)\n"
     ]
    }
   ],
   "source": [
    "df_feature=pd.DataFrame()\n",
    "for _ in range(1,4):\n",
    "    df_temp = pd.read_csv(os.path.join(data_dire,str(_)+\"_v_c_s_feature.csv\"))\n",
    "    df_cnn_result=pd.read_csv(\"../CNN/%d_cnn_predicted.csv\"%_)\n",
    "    df_cnn_result=df_cnn_result/100\n",
    "    if _==1:\n",
    "        df_temp = df_temp[:-60]\n",
    "    df_temp=pd.concat([df_temp,df_cnn_result[:df_temp.shape[0]]],axis=1)\n",
    "\n",
    "    df_feature=df_feature.append(df_temp)\n",
    "print(df_feature.columns,df_feature.shape)\n",
    "df_train=df_feature\n",
    "y_train = df_train[\"residual_life\"]\n",
    "df_train.drop(columns=\"residual_life\",inplace=True)\n",
    "\n",
    "columns_list=list(df_train.columns)\n",
    "columns_list.remove(\"predicted\")\n",
    "min_max_scaler = preprocessing.MinMaxScaler()\n",
    "x_train = min_max_scaler.fit_transform(df_train[columns_list])\n",
    "x_train = np.concatenate((x_train,df_train[\"predicted\"].values.reshape(x_train.shape[0],-1)),axis=1)\n",
    "print(x_train.shape)"
   ]
  },
  {
   "cell_type": "code",
   "execution_count": 5,
   "metadata": {},
   "outputs": [
    {
     "name": "stdout",
     "output_type": "stream",
     "text": [
      "fit finished\n"
     ]
    }
   ],
   "source": [
    "clf = SVR(gamma='auto')\n",
    "clf.fit(x_train, y_train)\n",
    "print(\"fit finished\")"
   ]
  },
  {
   "cell_type": "code",
   "execution_count": 44,
   "metadata": {
    "scrolled": true
   },
   "outputs": [
    {
     "name": "stdout",
     "output_type": "stream",
     "text": [
      "(600, 76) Index(['c1_absmean', 'c2_absmean', 'c3_absmean', 'c1_absmedia', 'c2_absmedia',\n",
      "       'c3_absmedia', 'c1_absrange', 'c2_absrange', 'c3_absrange',\n",
      "       'c1_absstdn', 'c2_absstdn', 'c3_absstdn', 'c1_absvar', 'c2_absvar',\n",
      "       'c3_absvar', 'c1_maxvalue', 'c2_maxvalue', 'c3_maxvalue', 'c1_absmax',\n",
      "       'c2_absmax', 'c3_absmax', 'c1_minvalue', 'c2_minvalue', 'c3_minvalue',\n",
      "       'c1_absmin', 'c2_absmin', 'c3_absmin', 'tool_age', 'c1_1min_mean',\n",
      "       'c2_1min_mean', 'c3_1min_mean', 'c1_1min_var', 'c2_1min_var',\n",
      "       'c3_1min_var', 'c1_1min_range', 'c2_1min_range', 'c3_1min_range',\n",
      "       'mean_spindel', 'var_spindel', 'range_spindel', 'v1_absmean',\n",
      "       'v2_absmean', 'v3_absmean', 'v1_absmedia', 'v2_absmedia', 'v3_absmedia',\n",
      "       'v1_absrange', 'v2_absrange', 'v3_absrange', 'v1_absstdn', 'v2_absstdn',\n",
      "       'v3_absstdn', 'v1_absvar', 'v2_absvar', 'v3_absvar', 'v1_maxvalue',\n",
      "       'v2_maxvalue', 'v3_maxvalue', 'v1_absmax', 'v2_absmax', 'v3_absmax',\n",
      "       'v1_minvalue', 'v2_minvalue', 'v3_minvalue', 'v1_absmin', 'v2_absmin',\n",
      "       'v3_absmin', 'v1_1min_mean', 'v2_1min_mean', 'v3_1min_mean',\n",
      "       'v1_1min_var', 'v2_1min_var', 'v3_1min_var', 'v1_1min_range',\n",
      "       'v2_1min_range', 'v3_1min_range'],\n",
      "      dtype='object')\n",
      "(600, 77)\n"
     ]
    }
   ],
   "source": [
    "test_index=1\n",
    "test_filename=\"%d_v_c_s_feature.csv\"%test_index\n",
    "df_test=pd.read_csv(os.path.join(fea_minute_dire,test_filename))\n",
    "df_cnn_result=pd.read_csv(\"../CNN/%d_cnn_test_predicted.csv\"%_)\n",
    "df_cnn_result=df_cnn_result/100\n",
    "\n",
    "df_test.drop(columns='residual_life',inplace=True)\n",
    "df_test=df_test.fillna(method = 'ffill', axis=0)#nan前向填充\n",
    "# df_test.drop(columns=columns_test_drop,inplace=True)#不使用分钟特征\n",
    "print(df_test.shape,df_test.columns)\n",
    "y_test=df_test['tool_age']\n",
    "min_max_scaler = preprocessing.MinMaxScaler()\n",
    "x_test = min_max_scaler.fit_transform(df_test)\n",
    "x_test=np.concatenate((x_test,df_cnn_result[\"predicted\"].values.reshape(x_test.shape[0],-1)),axis=1)\n",
    "print(x_test.shape)\n",
    "\n",
    "y_predicted=clf.predict(x_test)\n",
    "\n",
    "df_result=pd.DataFrame({\"real\":y_test,\"predicted\":y_predicted})\n",
    "# plt_plot(y_test,y_predicted)\n",
    "# err=Error_compute(y_test,y_predicted)\n",
    "# print(err)\n",
    "\n",
    "df_predict=df_result[\"predicted\"].groupby(df_result['real']).mean()\n",
    "err=Error_compute(df_predict.index,df_predict)\n",
    "print(err)\n",
    "plt_plot(df_predict.index,df_predict)\n",
    "print(df_predict)"
   ]
  },
  {
   "cell_type": "code",
   "execution_count": 34,
   "metadata": {},
   "outputs": [
    {
     "name": "stdout",
     "output_type": "stream",
     "text": [
      "[65.54917277421418, 59.98233848255336, 80.37283530276808, 69.7501191316112, 74.7797076798879, 148.34021504991583, 133.37098826176987, 138.10782129960242, 121.8063888265124, 123.27063426585693]\n",
      "59.98233848255336\n"
     ]
    }
   ],
   "source": [
    "temp_list=[]\n",
    "for index,temp in zip(range(1,11),df_predict):\n",
    "    temp_list.append(temp-(5*(10-index)))\n",
    "print(temp_list)\n",
    "print(min(temp_list))"
   ]
  },
  {
   "cell_type": "code",
   "execution_count": null,
   "metadata": {},
   "outputs": [],
   "source": []
  }
 ],
 "metadata": {
  "kernelspec": {
   "display_name": "Python 3",
   "language": "python",
   "name": "python3"
  },
  "language_info": {
   "codemirror_mode": {
    "name": "ipython",
    "version": 3
   },
   "file_extension": ".py",
   "mimetype": "text/x-python",
   "name": "python",
   "nbconvert_exporter": "python",
   "pygments_lexer": "ipython3",
   "version": "3.6.6"
  }
 },
 "nbformat": 4,
 "nbformat_minor": 2
}
