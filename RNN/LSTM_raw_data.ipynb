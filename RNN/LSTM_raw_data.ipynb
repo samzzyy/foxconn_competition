{
 "cells": [
  {
   "cell_type": "code",
   "execution_count": 14,
   "metadata": {
    "collapsed": true
   },
   "outputs": [],
   "source": [
    "import pandas as pd\n",
    "import os\n",
    "import gc\n",
    "import numpy as np\n",
    "from tempfile import mkdtemp\n",
    "import tensorflow as tf\n",
    "import matplotlib.pyplot as plt\n",
    "\n",
    "from scipy.fftpack import fft,ifft\n",
    "from scipy import signal"
   ]
  },
  {
   "cell_type": "code",
   "execution_count": 15,
   "metadata": {
    "collapsed": true
   },
   "outputs": [],
   "source": [
    "def plt_plot(y_real,y_predict):\n",
    "    fig = plt.figure()\n",
    "    ax = fig.add_subplot(1, 1, 1)\n",
    "    ax.plot(range(len(y_real)),y_real, color='r')\n",
    "    ax.plot(range(len(y_predict)),y_predict, color='b')\n",
    "    plt.show()"
   ]
  },
  {
   "cell_type": "code",
   "execution_count": 18,
   "metadata": {
    "collapsed": true
   },
   "outputs": [],
   "source": [
    "def window1sDataCut(df_signal):\n",
    "    if df_signal.shape[0]<1536000:#padding 0 when length less 1536000\n",
    "        zero_data = np.zeros(shape=(1536000-df_signal.shape[0],4))\n",
    "        df_temp = pd.DataFrame(zero_data, columns=df_signal.columns)\n",
    "        df_raw_vibration=df_signal.append(df_temp)\n",
    "    else:\n",
    "        df_raw_vibration=df_signal\n",
    "    df_raw_vibration_length = df_raw_vibration.shape[0]# cut head and tail when length more than 1536000\n",
    "    delete_length = df_raw_vibration_length % 25600\n",
    "    df_vibration = df_raw_vibration[delete_length//2 : (delete_length//2)+(25600*60)]\n",
    "    print(\"after cut:\",df_vibration.shape,60)\n",
    "    return df_vibration,60\n",
    "\n",
    "def load_train_fft_data(data_dire_list,sensor_channel=\"vibration_1\"):\n",
    "    train_data_pool_array=np.array([]).reshape(-1,60,12800)\n",
    "    label_data_pool_array=np.array([]).reshape(-1,60,1)\n",
    "    window=25600\n",
    "    for data_dire in data_dire_list:\n",
    "        file_dire=os.path.join(data_dire,'Sensor')\n",
    "        file_list_length=len(os.listdir(file_dire))\n",
    "        for file_index in range(1,file_list_length+1):\n",
    "            residual_life_array=np.array([]).reshape(-1,60,1)\n",
    "            fft_train_data_60s=np.array([]).reshape(-1,12800)\n",
    "            df_signal=pd.read_csv(os.path.join(file_dire,str(file_index)+\".csv\"))\n",
    "            df_60s,seconds_counts=window1sDataCut(df_signal)\n",
    "            residual_life_array=np.append(residual_life_array,np.array([(file_list_length-file_index)*5]*seconds_counts).reshape(-1,60,1),axis=0)\n",
    "            for _ in range(60):\n",
    "                freqs=np.fft.fft(df_60s[sensor_channel][window*_:window*(_+1)])\n",
    "                freqs=freqs[0:12800].reshape(-1,12800)\n",
    "                fft_train_data_60s=np.append(fft_train_data_60s,freqs)\n",
    "            train_data_pool_array=np.append(train_data_pool_array,fft_train_data_60s.reshape(-1,60,12800),axis=0)\n",
    "            label_data_pool_array=np.append(label_data_pool_array,residual_life_array.reshape(-1,60,1),axis=0)\n",
    "    source_filename = os.path.join(mkdtemp(), 'source.dat')\n",
    "    source_data= np.memmap(source_filename, dtype='float32', mode='w+', shape=train_data_pool_array.shape)\n",
    "    source_data = train_data_pool_array[:]\n",
    "\n",
    "    label_filename = os.path.join(mkdtemp(), 'label.dat')\n",
    "    label_data= np.memmap(label_filename, dtype='float32', mode='w+', shape=label_data_pool_array.shape)\n",
    "    label_data = label_data_pool_array[:]\n",
    "    return source_data,label_data\n",
    "def load_test_fft_data(data_dire_list,tool_age_list,sensor_channel=\"vibration_1\"):\n",
    "    train_data_pool_array=np.array([]).reshape(-1,60,12800)\n",
    "    label_data_pool_array=np.array([]).reshape(-1,60,1)\n",
    "    window=12800\n",
    "    for data_dire,index in zip(data_dire_list,range(len(data_dire_list))):\n",
    "        file_dire=os.path.join(data_dire,'Sensor')\n",
    "        file_list_length=len(os.listdir(file_dire))\n",
    "        for file_index in range(1,file_list_length+1):\n",
    "            residual_life_array=np.array([]).reshape(-1,60,1)\n",
    "            fft_train_data_60s=np.array([]).reshape(-1,12800)\n",
    "            df_signal=pd.read_csv(os.path.join(file_dire,str(file_index)+\".csv\"))\n",
    "            df_60s,seconds_counts=window1sDataCut(df_signal)\n",
    "            residual_life_array=np.append(residual_life_array,np.array([(file_list_length-file_index)*5+tool_age_list[index]]*seconds_counts).reshape(-1,60,1),axis=0)    \n",
    "#             print(data_dire,str(file_index)+'.csv',(file_list_length-file_index)*5+tool_age_list[index])\n",
    "            for _ in range(60):\n",
    "                freqs=np.fft.fft(df_60s[sensor_channel][window*_:window*(_+1)])\n",
    "                freqs=abs(freqs[0:12800].reshape(-1,12800))\n",
    "                fft_train_data_60s=np.append(fft_train_data_60s,freqs)\n",
    "            train_data_pool_array=np.append(train_data_pool_array,fft_train_data_60s.reshape(-1,60,12800),axis=0)\n",
    "            label_data_pool_array=np.append(label_data_pool_array,residual_life_array.reshape(-1,60,1),axis=0)\n",
    "    source_filename = os.path.join(mkdtemp(), 'test_source.dat')\n",
    "    source_data= np.memmap(source_filename, dtype='float32', mode='w+', shape=train_data_pool_array.shape)\n",
    "    source_data = train_data_pool_array[:]\n",
    "    \n",
    "    label_filename = os.path.join(mkdtemp(), 'test_label.dat')\n",
    "    label_data= np.memmap(label_filename, dtype='float32', mode='w+', shape=label_data_pool_array.shape)\n",
    "    label_data = label_data_pool_array[:]\n",
    "    return source_data,label_data"
   ]
  },
  {
   "cell_type": "code",
   "execution_count": 17,
   "metadata": {
    "collapsed": true
   },
   "outputs": [],
   "source": [
    "def window1sDataCut(df_signal):\n",
    "    if df_signal.shape[0]<1536000:#padding 0 when length less 1536000\n",
    "        zero_data = np.zeros(shape=(1536000-df_signal.shape[0],4))\n",
    "        df_temp = pd.DataFrame(zero_data, columns=df_signal.columns)\n",
    "        df_raw_vibration=df_signal.append(df_temp)\n",
    "    else:\n",
    "        df_raw_vibration=df_signal\n",
    "    \n",
    "    df_raw_vibration_length = df_raw_vibration.shape[0]# cut head and tail when length more than 1536000\n",
    "    delete_length = df_raw_vibration_length % 25600\n",
    "    df_vibration = df_raw_vibration[delete_length//2 : (delete_length//2)+(25600*60)]\n",
    "    print(\"after cut:\",df_vibration.shape,60)\n",
    "    return df_vibration,60\n",
    "def load_train_data(data_dire_list):\n",
    "    train_data_pool_array=np.array([]).reshape(-1,60,25600)\n",
    "    label_data_pool_array=np.array([]).reshape(-1,60,1)\n",
    "    for data_dire in data_dire_list:\n",
    "        file_dire=os.path.join(data_dire,'Sensor')\n",
    "        file_list_length=len(os.listdir(file_dire))\n",
    "        for file_index in range(1,file_list_length+1):\n",
    "            residual_life_array=np.array([]).reshape(-1,60,1)\n",
    "            df_signal=pd.read_csv(os.path.join(file_dire,str(file_index)+\".csv\"))\n",
    "            df_60s,seconds_counts=window1sDataCut(df_signal)\n",
    "            residual_life_array=np.append(residual_life_array,np.array([(file_list_length-file_index)*5]*seconds_counts).reshape(-1,60,1),axis=0)    \n",
    "            train_data_pool_array=np.append(train_data_pool_array,df_60s['vibration_1'].values.reshape(-1,60,25600),axis=0)\n",
    "            label_data_pool_array=np.append(label_data_pool_array,residual_life_array.reshape(-1,60,1),axis=0)\n",
    "    source_filename = os.path.join(mkdtemp(), 'source.dat')\n",
    "    source_data= np.memmap(source_filename, dtype='float32', mode='w+', shape=train_data_pool_array.shape)\n",
    "    source_data = train_data_pool_array[:]\n",
    "    \n",
    "    label_filename = os.path.join(mkdtemp(), 'label.dat')\n",
    "    label_data= np.memmap(label_filename, dtype='float32', mode='w+', shape=label_data_pool_array.shape)\n",
    "    label_data = label_data_pool_array[:]\n",
    "    return source_data,label_data\n",
    "def load_test_data(data_dire_list,tool_age_list):\n",
    "    train_data_pool_array=np.array([]).reshape(-1,60,25600)\n",
    "    label_data_pool_array=np.array([]).reshape(-1,60,1)\n",
    "    for data_dire,index in zip(data_dire_list,range(len(data_dire_list))):\n",
    "        file_dire=os.path.join(data_dire,'Sensor')\n",
    "        file_list_length=len(os.listdir(file_dire))\n",
    "        for file_index in range(1,file_list_length+1):\n",
    "            residual_life_array=np.array([]).reshape(-1,60,1)\n",
    "            df_signal=pd.read_csv(os.path.join(file_dire,str(file_index)+\".csv\"))\n",
    "            df_60s,seconds_counts=window1sDataCut(df_signal)\n",
    "            residual_life_array=np.append(residual_life_array,np.array([(file_list_length-file_index)*5+tool_age_list[index]]*seconds_counts).reshape(-1,60,1),axis=0)    \n",
    "            train_data_pool_array=np.append(train_data_pool_array,df_60s['vibration_1'].values.reshape(-1,60,25600),axis=0)\n",
    "            label_data_pool_array=np.append(label_data_pool_array,residual_life_array.reshape(-1,60,1),axis=0)\n",
    "    source_filename = os.path.join(mkdtemp(), 'test_source.dat')\n",
    "    source_data= np.memmap(source_filename, dtype='float32', mode='w+', shape=train_data_pool_array.shape)\n",
    "    source_data = train_data_pool_array[:]\n",
    "    \n",
    "    label_filename = os.path.join(mkdtemp(), 'test_label.dat')\n",
    "    label_data= np.memmap(label_filename, dtype='float32', mode='w+', shape=label_data_pool_array.shape)\n",
    "    label_data = label_data_pool_array[:]\n",
    "    return source_data,label_data"
   ]
  },
  {
   "cell_type": "code",
   "execution_count": 19,
   "metadata": {
    "collapsed": true
   },
   "outputs": [],
   "source": [
    "source_dire = \"../../01-TrainingData-additional/\"\n",
    "source_dire_list=[\n",
    "    \"../../01-TrainingData-additional/01/\",\n",
    "    \"../../01-TrainingData-additional/02/\",\n",
    "  \"../../01-TrainingData-additional/03/\"\n",
    "]\n",
    "test_dire = \"../../02-TestingData-keD1/\"\n",
    "test_dire_list=[\n",
    "    \"../../02-TestingData-keD1/01/\",\n",
    "    \"../../02-TestingData-keD1/02/\",\n",
    "  \"../../02-TestingData-keD1/03/\",\n",
    "    \"../../02-TestingData-keD1/04/\",\n",
    "    \"../../02-TestingData-keD1/05/\"\n",
    "]\n",
    "tool_age_list=[104,52,190,66,40]\n"
   ]
  },
  {
   "cell_type": "code",
   "execution_count": 20,
   "metadata": {
    "collapsed": false
   },
   "outputs": [
    {
     "name": "stdout",
     "output_type": "stream",
     "text": [
      "after cut: (1536000, 4) 60\n",
      "after cut: (1536000, 4) 60\n",
      "after cut: (1536000, 4) 60\n",
      "after cut: (1536000, 4) 60\n",
      "after cut: (1536000, 4) 60\n",
      "after cut: (1536000, 4) 60\n",
      "after cut: (1536000, 4) 60\n",
      "after cut: (1536000, 4) 60\n",
      "after cut: (1536000, 4) 60\n",
      "after cut: (1536000, 4) 60\n",
      "after cut: (1536000, 4) 60\n",
      "after cut: (1536000, 4) 60\n",
      "after cut: (1536000, 4) 60\n",
      "after cut: (1536000, 4) 60\n",
      "after cut: (1536000, 4) 60\n",
      "after cut: (1536000, 4) 60\n",
      "after cut: (1536000, 4) 60\n",
      "after cut: (1536000, 4) 60\n",
      "after cut: (1536000, 4) 60\n",
      "after cut: (1536000, 4) 60\n",
      "after cut: (1536000, 4) 60\n",
      "after cut: (1536000, 4) 60\n",
      "after cut: (1536000, 4) 60\n",
      "after cut: (1536000, 4) 60\n",
      "after cut: (1536000, 4) 60\n",
      "after cut: (1536000, 4) 60\n",
      "after cut: (1536000, 4) 60\n",
      "after cut: (1536000, 4) 60\n",
      "after cut: (1536000, 4) 60\n",
      "after cut: (1536000, 4) 60\n",
      "after cut: (1536000, 4) 60\n",
      "after cut: (1536000, 4) 60\n",
      "after cut: (1536000, 4) 60\n",
      "after cut: (1536000, 4) 60\n",
      "after cut: (1536000, 4) 60\n",
      "after cut: (1536000, 4) 60\n",
      "after cut: (1536000, 4) 60\n",
      "after cut: (1536000, 4) 60\n",
      "after cut: (1536000, 4) 60\n",
      "after cut: (1536000, 4) 60\n",
      "after cut: (1536000, 4) 60\n",
      "after cut: (1536000, 4) 60\n",
      "after cut: (1536000, 4) 60\n",
      "after cut: (1536000, 4) 60\n",
      "after cut: (1536000, 4) 60\n",
      "after cut: (1536000, 4) 60\n",
      "after cut: (1536000, 4) 60\n",
      "after cut: (1536000, 4) 60\n",
      "after cut: (1536000, 4) 60\n",
      "after cut: (1536000, 4) 60\n",
      "after cut: (1536000, 4) 60\n",
      "after cut: (1536000, 4) 60\n",
      "after cut: (1536000, 4) 60\n",
      "after cut: (1536000, 4) 60\n",
      "after cut: (1536000, 4) 60\n",
      "after cut: (1536000, 4) 60\n",
      "after cut: (1536000, 4) 60\n",
      "after cut: (1536000, 4) 60\n",
      "after cut: (1536000, 4) 60\n",
      "after cut: (1536000, 4) 60\n",
      "after cut: (1536000, 4) 60\n",
      "after cut: (1536000, 4) 60\n",
      "after cut: (1536000, 4) 60\n",
      "after cut: (1536000, 4) 60\n",
      "after cut: (1536000, 4) 60\n",
      "after cut: (1536000, 4) 60\n",
      "after cut: (1536000, 4) 60\n",
      "after cut: (1536000, 4) 60\n",
      "after cut: (1536000, 4) 60\n",
      "after cut: (1536000, 4) 60\n",
      "after cut: (1536000, 4) 60\n",
      "after cut: (1536000, 4) 60\n",
      "after cut: (1536000, 4) 60\n",
      "after cut: (1536000, 4) 60\n",
      "after cut: (1536000, 4) 60\n",
      "after cut: (1536000, 4) 60\n",
      "after cut: (1536000, 4) 60\n",
      "after cut: (1536000, 4) 60\n",
      "after cut: (1536000, 4) 60\n",
      "after cut: (1536000, 4) 60\n",
      "after cut: (1536000, 4) 60\n",
      "after cut: (1536000, 4) 60\n",
      "after cut: (1536000, 4) 60\n",
      "after cut: (1536000, 4) 60\n",
      "after cut: (1536000, 4) 60\n",
      "after cut: (1536000, 4) 60\n",
      "after cut: (1536000, 4) 60\n",
      "after cut: (1536000, 4) 60\n",
      "after cut: (1536000, 4) 60\n",
      "after cut: (1536000, 4) 60\n",
      "after cut: (1536000, 4) 60\n",
      "after cut: (1536000, 4) 60\n",
      "after cut: (1536000, 4) 60\n",
      "after cut: (1536000, 4) 60\n",
      "after cut: (1536000, 4) 60\n",
      "after cut: (1536000, 4) 60\n",
      "after cut: (1536000, 4) 60\n",
      "after cut: (1536000, 4) 60\n",
      "after cut: (1536000, 4) 60\n",
      "after cut: (1536000, 4) 60\n",
      "after cut: (1536000, 4) 60\n",
      "after cut: (1536000, 4) 60\n",
      "after cut: (1536000, 4) 60\n",
      "after cut: (1536000, 4) 60\n",
      "after cut: (1536000, 4) 60\n",
      "after cut: (1536000, 4) 60\n",
      "after cut: (1536000, 4) 60\n",
      "after cut: (1536000, 4) 60\n",
      "after cut: (1536000, 4) 60\n",
      "after cut: (1536000, 4) 60\n",
      "after cut: (1536000, 4) 60\n",
      "after cut: (1536000, 4) 60\n",
      "after cut: (1536000, 4) 60\n",
      "after cut: (1536000, 4) 60\n",
      "after cut: (1536000, 4) 60\n",
      "after cut: (1536000, 4) 60\n",
      "after cut: (1536000, 4) 60\n",
      "after cut: (1536000, 4) 60\n",
      "after cut: (1536000, 4) 60\n",
      "after cut: (1536000, 4) 60\n",
      "after cut: (1536000, 4) 60\n",
      "after cut: (1536000, 4) 60\n",
      "after cut: (1536000, 4) 60\n",
      "after cut: (1536000, 4) 60\n",
      "after cut: (1536000, 4) 60\n",
      "after cut: (1536000, 4) 60\n",
      "after cut: (1536000, 4) 60\n",
      "after cut: (1536000, 4) 60\n",
      "after cut: (1536000, 4) 60\n",
      "after cut: (1536000, 4) 60\n",
      "after cut: (1536000, 4) 60\n",
      "after cut: (1536000, 4) 60\n",
      "after cut: (1536000, 4) 60\n",
      "after cut: (1536000, 4) 60\n",
      "after cut: (1536000, 4) 60\n",
      "after cut: (1536000, 4) 60\n",
      "after cut: (1536000, 4) 60\n",
      "after cut: (1536000, 4) 60\n",
      "after cut: (1536000, 4) 60\n",
      "after cut: (1536000, 4) 60\n",
      "after cut: (1536000, 4) 60\n",
      "after cut: (1536000, 4) 60\n",
      "after cut: (1536000, 4) 60\n",
      "after cut: (1536000, 4) 60\n",
      "after cut: (1536000, 4) 60\n",
      "after cut: (1536000, 4) 60\n",
      "after cut: (1536000, 4) 60\n",
      "after cut: (1536000, 4) 60\n",
      "after cut: (1536000, 4) 60\n",
      "after cut: (1536000, 4) 60\n",
      "after cut: (1536000, 4) 60\n",
      "after cut: (1536000, 4) 60\n",
      "after cut: (1536000, 4) 60\n",
      "after cut: (1536000, 4) 60\n",
      "after cut: (1536000, 4) 60\n",
      "after cut: (1536000, 4) 60\n",
      "after cut: (1536000, 4) 60\n",
      "after cut: (1536000, 4) 60\n",
      "after cut: (1536000, 4) 60\n",
      "after cut: (1536000, 4) 60\n",
      "after cut: (1536000, 4) 60\n",
      "after cut: (1536000, 4) 60\n",
      "after cut: (1536000, 4) 60\n",
      "after cut: (1536000, 4) 60\n",
      "after cut: (1536000, 4) 60\n",
      "after cut: (1536000, 4) 60\n",
      "after cut: (1536000, 4) 60\n",
      "after cut: (1536000, 4) 60\n",
      "after cut: (1536000, 4) 60\n",
      "after cut: (1536000, 4) 60\n",
      "after cut: (1536000, 4) 60\n",
      "after cut: (1536000, 4) 60\n",
      "after cut: (1536000, 4) 60\n",
      "after cut: (1536000, 4) 60\n",
      "after cut: (1536000, 4) 60\n",
      "after cut: (1536000, 4) 60\n",
      "after cut: (1536000, 4) 60\n",
      "after cut: (1536000, 4) 60\n",
      "after cut: (1536000, 4) 60\n",
      "after cut: (1536000, 4) 60\n",
      "after cut: (1536000, 4) 60\n",
      "after cut: (1536000, 4) 60\n",
      "after cut: (1536000, 4) 60\n"
     ]
    },
    {
     "data": {
      "text/plain": [
       "4181"
      ]
     },
     "execution_count": 20,
     "metadata": {},
     "output_type": "execute_result"
    }
   ],
   "source": [
    "train_data,train_label=load_train_data(source_dire_list)\n",
    "valid_data,valid_label=load_test_data(test_dire_list,tool_age_list)\n",
    "\n",
    "# train_fft_data,train_label=load_train_fft_data(source_dire_list)\n",
    "# valid_fft_data,valid_label=load_test_fft_data(test_dire_list,tool_age_list)\n",
    "gc.collect()"
   ]
  },
  {
   "cell_type": "code",
   "execution_count": 21,
   "metadata": {
    "collapsed": false
   },
   "outputs": [],
   "source": [
    "from keras.models import Sequential\n",
    "from keras.layers import Dense\n",
    "from keras.layers import LSTM\n",
    "\n",
    "from keras import models as M\n",
    "from keras import layers as L\n",
    "from keras import metrics\n",
    "from keras import optimizers\n",
    "\n",
    "from sklearn.preprocessing import MinMaxScaler\n",
    "from sklearn.metrics import mean_squared_error"
   ]
  },
  {
   "cell_type": "code",
   "execution_count": 22,
   "metadata": {
    "collapsed": true
   },
   "outputs": [],
   "source": [
    "def evaluation_metric(y_true, y_pred):\n",
    "    y_true, y_pred = tf.reshape(y_true, [-1]), tf.reshape(y_pred, [-1])\n",
    "    er = y_true - y_pred\n",
    "    mask_n, mask_p = (er<=0), (er>0)\n",
    "    er_n, er_p = tf.boolean_mask(er, mask_n), tf.boolean_mask(er, mask_p)\n",
    "    score_n = tf.exp(-tf.log(0.5)*er_n/5)\n",
    "    score_p = tf.exp(tf.log(0.5)*er_p/20)\n",
    "    score = tf.concat([score_n, score_p], 0)\n",
    "    score = tf.reduce_mean(score)*100\n",
    "    return score\n",
    "def cust_loss1(y_real,y_predicted):\n",
    "    y_diff = y_real - y_predicted\n",
    "    loss = tf.where(tf.greater(y_diff, 0),\n",
    "                    -tf.exp(tf.log(0.5) * (y_diff / 20)) +1,\n",
    "                    -tf.exp(-tf.log(0.5) * (y_diff / 5)) +1)\n",
    "    return loss*tf.reduce_max(abs(y_diff))\n",
    "def cust_loss2(y_real,y_predicted):\n",
    "    y_diff = y_real - y_predicted\n",
    "    loss = tf.where(tf.greater(y_diff, 0),\n",
    "                    -tf.log(0.5) * (y_diff / 20),\n",
    "                    tf.log(0.5) * (y_diff / 5))\n",
    "    return loss**2\n",
    "def Error_compute(y_real,y_predicted):\n",
    "    y_diff=y_real-y_predicted\n",
    "    diff_positive=y_diff[y_diff>0]\n",
    "    diff_negitive_0=y_diff[y_diff<=0]\n",
    "    if diff_negitive_0.shape[0] >0:\n",
    "        sum_negitive_error=sum(np.exp(-np.log(0.5)*(diff_negitive_0/5)))\n",
    "    else:\n",
    "        sum_negitive_error=0\n",
    "    if diff_positive.shape[0] >0:\n",
    "        sum_positive_error=sum(np.exp(np.log(0.5)*(diff_positive/20)))\n",
    "    else:\n",
    "        sum_positive_error=0\n",
    "    return (sum_negitive_error+sum_positive_error)/len(y_real)"
   ]
  },
  {
   "cell_type": "code",
   "execution_count": 23,
   "metadata": {
    "collapsed": true
   },
   "outputs": [],
   "source": [
    "from keras.callbacks import ModelCheckpoint\n",
    "from keras.callbacks import Callback\n",
    "graph = None\n",
    "model = None"
   ]
  },
  {
   "cell_type": "code",
   "execution_count": null,
   "metadata": {
    "collapsed": false
   },
   "outputs": [],
   "source": [
    "def LSTM_model(input_shape):\n",
    "    x_input = L.Input(shape=input_shape)\n",
    "    x=L.LSTM(units=300,activation=\"tanh\",return_sequences=True)(x_input)#320\n",
    "    x=L.TimeDistributed(L.Dense(150))(x)\n",
    "    x=L.Dropout(0.5)(x)\n",
    "    x=L.LSTM(units=60,activation=\"tanh\",return_sequences=True)(x)\n",
    "    y=L.TimeDistributed(L.Dense(1))(x)\n",
    "    \n",
    "    model = M.Model(inputs=x_input, outputs=y, name=\"LSTM\")\n",
    "    return model"
   ]
  },
  {
   "cell_type": "code",
   "execution_count": 13,
   "metadata": {
    "collapsed": true
   },
   "outputs": [
    {
     "name": "stdout",
     "output_type": "stream",
     "text": [
      "_________________________________________________________________\n",
      "Layer (type)                 Output Shape              Param #   \n",
      "=================================================================\n",
      "input_1 (InputLayer)         (None, 60, 12800)         0         \n",
      "_________________________________________________________________\n",
      "lstm_1 (LSTM)                (None, 60, 300)           15721200  \n",
      "_________________________________________________________________\n",
      "time_distributed_1 (TimeDist (None, 60, 5)             1505      \n",
      "_________________________________________________________________\n",
      "dropout_1 (Dropout)          (None, 60, 5)             0         \n",
      "_________________________________________________________________\n",
      "lstm_2 (LSTM)                (None, 60, 60)            15840     \n",
      "_________________________________________________________________\n",
      "time_distributed_2 (TimeDist (None, 60, 1)             61        \n",
      "=================================================================\n",
      "Total params: 15,738,606\n",
      "Trainable params: 15,738,606\n",
      "Non-trainable params: 0\n",
      "_________________________________________________________________\n"
     ]
    }
   ],
   "source": [
    "checkpoint = ModelCheckpoint(filepath=\"./lstm_raw_fft.h5\",monitor='val_evaluation_metric',verbose=1,save_best_only='True',\n",
    "                             mode='max',period=1)\n",
    "# tensorboard = TensorBoard(log_dir='log(./)')\n",
    "callback_lists = [checkpoint]  #因为callback是list型,必须转化为list\n",
    "graph = tf.get_default_graph()\n",
    "model=LSTM_model((60,12800))\n",
    "model.summary()\n",
    "# model=LSTM_model((60,12800))\n",
    "Adam = optimizers.Adam(lr=1e-3, beta_1=0.9, beta_2=0.999, epsilon=1e-08)\n",
    "model.compile(loss='mean_squared_error', optimizer=Adam,metrics=[evaluation_metric])\n",
    "# model.compile(loss=cust_loss2, optimizer=Adam,metrics=[evaluation_metric])\n",
    "model.fit(train_fft_data,train_label, epochs=1000, verbose=2,batch_size=25,\n",
    "          validation_data=(valid_fft_data, valid_label),callbacks=callback_lists)"
   ]
  },
  {
   "cell_type": "code",
   "execution_count": null,
   "metadata": {
    "collapsed": true
   },
   "outputs": [],
   "source": []
  },
  {
   "cell_type": "code",
   "execution_count": null,
   "metadata": {
    "collapsed": false
   },
   "outputs": [
    {
     "name": "stdout",
     "output_type": "stream",
     "text": [
      "_________________________________________________________________\n",
      "Layer (type)                 Output Shape              Param #   \n",
      "=================================================================\n",
      "input_1 (InputLayer)         (None, 60, 25600)         0         \n",
      "_________________________________________________________________\n",
      "lstm_1 (LSTM)                (None, 60, 300)           31081200  \n",
      "_________________________________________________________________\n",
      "time_distributed_1 (TimeDist (None, 60, 150)           45150     \n",
      "_________________________________________________________________\n",
      "dropout_1 (Dropout)          (None, 60, 150)           0         \n",
      "_________________________________________________________________\n",
      "lstm_2 (LSTM)                (None, 60, 60)            50640     \n",
      "_________________________________________________________________\n",
      "time_distributed_2 (TimeDist (None, 60, 1)             61        \n",
      "=================================================================\n",
      "Total params: 31,177,051\n",
      "Trainable params: 31,177,051\n",
      "Non-trainable params: 0\n",
      "_________________________________________________________________\n",
      "Train on 133 samples, validate on 50 samples\n",
      "Epoch 1/2000\n"
     ]
    }
   ],
   "source": [
    "checkpoint = ModelCheckpoint(filepath=\"./lstm_raw.h5\",monitor='val_evaluation_metric',verbose=1,save_best_only='True',\n",
    "                             mode='max',period=1)\n",
    "# tensorboard = TensorBoard(log_dir='log(./)')\n",
    "callback_lists = [checkpoint]  #因为callback是list型,必须转化为list\n",
    "graph = tf.get_default_graph()\n",
    "model=LSTM_model((60,25600))\n",
    "model.summary()\n",
    "Adam = optimizers.Adam(lr=1e-3, beta_1=0.9, beta_2=0.999, epsilon=1e-08)\n",
    "model.compile(loss='mean_squared_error', optimizer=Adam,metrics=[evaluation_metric])\n",
    "# model.compile(loss=cust_loss2, optimizer=Adam,metrics=[evaluation_metric])\n",
    "model.fit(train_data,train_label, epochs=2000, verbose=2,batch_size=25,validation_data=(valid_data, valid_label),callbacks=callback_lists)"
   ]
  },
  {
   "cell_type": "code",
   "execution_count": null,
   "metadata": {
    "collapsed": true
   },
   "outputs": [],
   "source": []
  },
  {
   "cell_type": "code",
   "execution_count": 10,
   "metadata": {
    "collapsed": true
   },
   "outputs": [],
   "source": [
    "from keras.models import load_model\n",
    "# model = load_model('lstm_raw_fft.h5',{\"evaluation_metric\":evaluation_metric})\n",
    "model = load_model('lstm_raw.h5',{\"evaluation_metric\":evaluation_metric})"
   ]
  },
  {
   "cell_type": "code",
   "execution_count": 11,
   "metadata": {
    "collapsed": false
   },
   "outputs": [],
   "source": [
    "# predicted=model.predict(train_fft_data).reshape(-1,)\n",
    "predicted=model.predict(train_data).reshape(-1,)"
   ]
  },
  {
   "cell_type": "code",
   "execution_count": 12,
   "metadata": {
    "collapsed": false
   },
   "outputs": [
    {
     "name": "stdout",
     "output_type": "stream",
     "text": [
      "0.150347765327\n"
     ]
    },
    {
     "data": {
      "image/png": "[encoded data removed]",
      "text/plain": [
       "<matplotlib.figure.Figure at 0x7f1dad793e48>"
      ]
     },
     "metadata": {},
     "output_type": "display_data"
    }
   ],
   "source": [
    "df_result=pd.DataFrame({\"real\":train_label.reshape(-1,),\"predicted\":predicted})\n",
    "df_predict=df_result[\"predicted\"].groupby(df_result['real']).mean()\n",
    "err=Error_compute(df_predict.index,df_predict)\n",
    "print(err)\n",
    "plt_plot(df_predict.index,df_predict)"
   ]
  },
  {
   "cell_type": "code",
   "execution_count": null,
   "metadata": {
    "collapsed": true
   },
   "outputs": [],
   "source": []
  },
  {
   "cell_type": "code",
   "execution_count": null,
   "metadata": {
    "collapsed": true,
    "scrolled": true
   },
   "outputs": [],
   "source": [
    "a=data_generator(train_data_list_pool,label_data_list_pool,source_dire_list,batch_size=5,time_range=1)\n",
    "i=1\n",
    "for data ,label in a:\n",
    "    print(data.shape,label.shape)\n",
    "    print(i)\n",
    "    i=i+1"
   ]
  },
  {
   "cell_type": "code",
   "execution_count": 17,
   "metadata": {
    "collapsed": true
   },
   "outputs": [],
   "source": [
    "def window1sDataCut(df_signal):\n",
    "    if df_signal.shape[0]<1536000:#padding 0 when length less 1536000\n",
    "        zero_data = np.zeros(shape=(1536000-df_signal.shape[0],4))\n",
    "        df_temp = pd.DataFrame(zero_data, columns=df_signal.columns)\n",
    "        df_raw_vibration=df_signal.append(df_temp)\n",
    "    else:\n",
    "        df_raw_vibration=df_signal\n",
    "    \n",
    "    df_raw_vibration_length = df_raw_vibration.shape[0]# cut head and tail when length more than 1536000\n",
    "    delete_length = df_raw_vibration_length % 25600\n",
    "    df_vibration = df_raw_vibration[delete_length//2 : (delete_length//2)+(25600*60)]\n",
    "    print(\"after cut:\",df_vibration.shape,60)\n",
    "    return df_vibration.values,60\n",
    "def get_train_data_list_pool(data_dire_list):#获得多个文件夹中的源数据\n",
    "    train_data_list_pool=[]\n",
    "    label_data_list_pool=[]# source data from mutiply floder \n",
    "    for data_dire in data_dire_list:\n",
    "        file_dire=os.path.join(data_dire,'Sensor')\n",
    "        file_list_length=len(os.listdir(file_dire))\n",
    "        train_data_pool_list=[]\n",
    "        label_data_pool_list=[]\n",
    "        for file_index in range(1,file_list_length+1):\n",
    "            residual_life_list=[]\n",
    "            df_signal=pd.read_csv(os.path.join(file_dire,str(file_index)+\".csv\"))\n",
    "            df_60s,seconds_counts=window1sDataCut(df_signal)\n",
    "            residual_life_list.extend([(file_list_length-file_index)*5]*seconds_counts)\n",
    "            label_data_pool_list.append(residual_life_list)\n",
    "            train_data_pool_list.append(df_60s)\n",
    "        train_data_list_pool.append(train_data_pool_list)\n",
    "        label_data_list_pool.append(label_data_pool_list)\n",
    "    return train_data_list_pool,label_data_list_pool\n",
    "\n",
    "def data_generator(train_data_list_pool,label_data_list_pool,data_dire_list,batch_size=5,time_range=1):\n",
    "#     train_data_list_pool,label_data_list_pool=get_train_data_list_pool(data_dire_list)\n",
    "    \n",
    "    file_list_length=0#获得一个epoch中每个batch需要输出的所有随机样本序列号\n",
    "    for train_data_list in train_data_list_pool:\n",
    "        file_list_length=file_list_length+len(train_data_list)-time_range\n",
    "    batch_random_list_epoch=list(range(1,(file_list_length+1)))\n",
    "    np.random.shuffle(batch_random_list_epoch)\n",
    "    exit()\n",
    "    for i in range((file_list_length)//batch_size):\n",
    "        train_data=np.array([]).reshape(-1,60*time_range,25600)\n",
    "#         label_data=np.array([]).reshape(-1,60*time_range,1)\n",
    "        label_data=np.array([]).reshape(-1,60*time_range,1)\n",
    "        batch_random_list=batch_random_list_epoch[batch_size*i:batch_size*(i+1)]#某batch需要输出的样本序列号\n",
    "        for start_index in batch_random_list:\n",
    "            signal_array=np.array([]).reshape(-1,25600)\n",
    "            residual_life_list=[]\n",
    "            \n",
    "            upper_bound_file_num=0                               #确定从第几个文件夹中获取数据\n",
    "            lower_bound_file_num=0\n",
    "            for floder_index in range(len(train_data_list_pool)):\n",
    "                upper_bound_file_num=upper_bound_file_num+len(train_data_list_pool[floder_index])-time_range\n",
    "                if start_index<=upper_bound_file_num:\n",
    "                    for minute_index in range(start_index,start_index+time_range):#将time_range分钟的数据连接在一起\n",
    "#                         print(\"floder_index,file_index\",floder_index,minute_index-lower_bound_file_num)\n",
    "                        df_60s=train_data_list_pool[floder_index][minute_index-1-lower_bound_file_num]\n",
    "                        reshape_data = df_60s['vibration_1'].values.reshape(-1, 25600)\n",
    "                        signal_array = np.append(signal_array,reshape_data,axis=0)\n",
    "                        residual_life_list.extend(label_data_list_pool[floder_index][minute_index-1-lower_bound_file_num])\n",
    "                    break\n",
    "                lower_bound_file_num=lower_bound_file_num+len(train_data_list_pool[floder_index])-time_range\n",
    "                \n",
    "            resudual_life_array = np.array(residual_life_list)#把上一步中得到的time_range分钟数据作为一条样本加到一个batch组中\n",
    "            signal_array=signal_array.reshape(-1,60*time_range,25600)\n",
    "            resudual_life_array=resudual_life_array.reshape(-1,60*time_range,1)\n",
    "            train_data=np.append(train_data,signal_array,axis=0)\n",
    "            label_data=np.append(label_data,resudual_life_array,axis=0)\n",
    "            label_data=label_data.reshape(-1,60,)\n",
    "            gc.collect()\n",
    "            yield train_data,label_data\n",
    "#         for data,label in zip(train_data,label_data):\n",
    "#             yield data,label"
   ]
  },
  {
   "cell_type": "code",
   "execution_count": null,
   "metadata": {
    "collapsed": true
   },
   "outputs": [],
   "source": []
  },
  {
   "cell_type": "code",
   "execution_count": 60,
   "metadata": {
    "collapsed": false
   },
   "outputs": [
    {
     "data": {
      "image/png": "[encoded data removed]",
      "text/plain": [
       "<Figure size 432x288 with 1 Axes>"
      ]
     },
     "metadata": {
      "needs_background": "light"
     },
     "output_type": "display_data"
    }
   ],
   "source": [
    "import matplotlib.pyplot as plt\n",
    "fig = plt.figure()\n",
    "ax = fig.add_subplot(1, 1, 1)\n",
    "ax.plot(range(len(df_signal[\"vibration_1\"])),df_signal[\"vibration_1\"], color='b')\n",
    "plt.show()"
   ]
  },
  {
   "cell_type": "code",
   "execution_count": 59,
   "metadata": {
    "collapsed": true
   },
   "outputs": [],
   "source": [
    "file_dire=os.path.join(source_dire,'0'+str(1),'Sensor')\n",
    "file_list_length=len(os.listdir(file_dire))\n",
    "for file_index in range(1,file_list_length+1):\n",
    "    df_signal=pd.read_csv(os.path.join(file_dire,str(file_index)+\".csv\"))\n",
    "    print(file_index,df_signal.shape)\n",
    "\n",
    "df_signal=pd.read_csv(os.path.join(file_dire,str(13)+\".csv\"))\n",
    "if df_signal.shape[0]<1536000:\n",
    "    zero_data = np.zeros(shape=(1536000-df_signal.shape[0],4))\n",
    "    df_temp = pd.DataFrame(zero_data, columns=df_signal.columns)\n",
    "df_signal=df_signal.append(df_temp)"
   ]
  },
  {
   "cell_type": "code",
   "execution_count": null,
   "metadata": {
    "collapsed": true
   },
   "outputs": [],
   "source": []
  },
  {
   "cell_type": "code",
   "execution_count": 3,
   "metadata": {
    "collapsed": true
   },
   "outputs": [],
   "source": [
    "def sequence_data_generator(data_dire,batch_size=5,time_range=1,dire_index=1):\n",
    "    file_dire=os.path.join(data_dire,'0'+str(dire_index),'Sensor')\n",
    "    file_list_length=len(os.listdir(file_dire))\n",
    "    batch_random_list_epoch=list(range(1,file_list_length+1-time_range))\n",
    "    np.random.shuffle(batch_random_list_epoch)\n",
    "    for i in range((file_list_length+1-time_range)//batch_size):\n",
    "        train_data=np.array([]).reshape(-1,60*time_range,25600)\n",
    "        label_data=np.array([]).reshape(-1,60*time_range,1)\n",
    "        batch_random_list=batch_random_list_epoch[batch_size*i:batch_size*(i+1)]\n",
    "        for start_index in batch_random_list:\n",
    "            signal_array=np.array([]).reshape(-1,25600)\n",
    "            residual_life_list=[]\n",
    "            for file_index in range(start_index,start_index+time_range):\n",
    "                df_signal=pd.read_csv(os.path.join(file_dire,str(file_index)+\".csv\"))\n",
    "                df_60s,seconds_counts=window1sDataCut(df_signal)\n",
    "                reshape_data = df_60s['vibration_1'].values.reshape(-1, 25600)\n",
    "                signal_array = np.append(signal_array,reshape_data,axis=0)\n",
    "                residual_life_list.extend([(file_list_length-file_index)*5]*seconds_counts)\n",
    "            resudual_life_array = np.array(residual_life_list)\n",
    "            gc.collect()\n",
    "            signal_array=signal_array.reshape(-1,60*time_range,25600)\n",
    "            resudual_life_array=resudual_life_array.reshape(-1,60*time_range,1)\n",
    "            train_data=np.append(train_data,signal_array,axis=0)\n",
    "            label_data=np.append(label_data,resudual_life_array,axis=0)\n",
    "        yield train_data,label_data \n"
   ]
  },
  {
   "cell_type": "code",
   "execution_count": 3,
   "metadata": {
    "collapsed": true
   },
   "outputs": [],
   "source": [
    "def window1sDataCut(df_signal):\n",
    "    if df_signal.shape[0]<1536000:#padding 0 when length less 1536000\n",
    "        zero_data = np.zeros(shape=(1536000-df_signal.shape[0],4))\n",
    "        df_temp = pd.DataFrame(zero_data, columns=df_signal.columns)\n",
    "        df_raw_vibration=df_signal.append(df_temp)\n",
    "    else:\n",
    "        df_raw_vibration=df_signal\n",
    "    \n",
    "    df_raw_vibration_length = df_raw_vibration.shape[0]# cut head and tail when length more than 1536000\n",
    "    delete_length = df_raw_vibration_length % 25600\n",
    "    df_vibration = df_raw_vibration[delete_length//2 : (delete_length//2)+(25600*60)]\n",
    "    print(\"after cut:\",df_vibration.shape,60)\n",
    "    return df_vibration,60\n",
    "def get_train_data_pool(data_dire,dire_index=1):\n",
    "    file_dire=os.path.join(data_dire,'0'+str(dire_index),'Sensor')\n",
    "    file_list_length=len(os.listdir(file_dire))\n",
    "    train_data_pool_list=[]\n",
    "    label_data_pool_list=[]\n",
    "    for file_index in range(1,file_list_length+1):\n",
    "        residual_life_list=[]\n",
    "        df_signal=pd.read_csv(os.path.join(file_dire,str(file_index)+\".csv\"))\n",
    "        df_60s,seconds_counts=window1sDataCut(df_signal)\n",
    "        residual_life_list.extend([(file_list_length-file_index)*5]*seconds_counts)\n",
    "        label_data_pool_list.append(residual_life_list)\n",
    "        train_data_pool_list.append(df_60s)\n",
    "    return train_data_pool_list,label_data_pool_list    \n",
    "def sequence_data_generator_load_memary(data_dire,batch_size=5,time_range=1,dire_index=1):\n",
    "    train_data_pool_list,label_data_pool_list=get_train_data_pool(data_dire)\n",
    "    file_list_length=len(train_data_pool_list)\n",
    "    batch_random_list_epoch=list(range(1,file_list_length+1-time_range))\n",
    "    np.random.shuffle(batch_random_list_epoch)\n",
    "    for i in range((file_list_length+1-time_range)//batch_size):\n",
    "        train_data=np.array([]).reshape(-1,60*time_range,25600)\n",
    "        label_data=np.array([]).reshape(-1,60*time_range,1)\n",
    "        batch_random_list=batch_random_list_epoch[batch_size*i:batch_size*(i+1)]\n",
    "\n",
    "        for start_index in batch_random_list:\n",
    "            signal_array=np.array([]).reshape(-1,25600)\n",
    "            residual_life_list=[]\n",
    "            for file_index in range(start_index,start_index+time_range):\n",
    "                df_60s=train_data_pool_list[file_index-1]\n",
    "                reshape_data = df_60s['vibration_1'].values.reshape(-1, 25600)\n",
    "                signal_array = np.append(signal_array,reshape_data,axis=0)\n",
    "                residual_life_list.extend(label_data_pool_list[file_index-1])\n",
    "            resudual_life_array = np.array(residual_life_list)\n",
    "            signal_array=signal_array.reshape(-1,60*time_range,25600)\n",
    "            resudual_life_array=resudual_life_array.reshape(-1,60*time_range,1)\n",
    "            train_data=np.append(train_data,signal_array,axis=0)\n",
    "            label_data=np.append(label_data,resudual_life_array,axis=0)\n",
    "            gc.collect()\n",
    "        yield train_data,label_data     "
   ]
  }
 ],
 "metadata": {
  "anaconda-cloud": {},
  "kernelspec": {
   "display_name": "Python [default]",
   "language": "python",
   "name": "python3"
  },
  "language_info": {
   "codemirror_mode": {
    "name": "ipython",
    "version": 3
   },
   "file_extension": ".py",
   "mimetype": "text/x-python",
   "name": "python",
   "nbconvert_exporter": "python",
   "pygments_lexer": "ipython3",
   "version": "3.5.2"
  }
 },
 "nbformat": 4,
 "nbformat_minor": 2
}
