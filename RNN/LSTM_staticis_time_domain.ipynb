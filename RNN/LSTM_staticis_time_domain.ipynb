{
 "cells": [
  {
   "cell_type": "code",
   "execution_count": 54,
   "metadata": {
    "collapsed": false
   },
   "outputs": [],
   "source": [
    "import pandas as pd\n",
    "import os\n",
    "import gc\n",
    "import numpy as np\n",
    "from tempfile import mkdtemp\n",
    "import tensorflow as tf\n",
    "import matplotlib.pyplot as plt"
   ]
  },
  {
   "cell_type": "code",
   "execution_count": 55,
   "metadata": {
    "collapsed": true
   },
   "outputs": [],
   "source": [
    "def plt_plot(y_real,y_predict):\n",
    "    fig = plt.figure()\n",
    "    ax = fig.add_subplot(1, 1, 1)\n",
    "    ax.plot(range(len(y_real)),y_real, color='r')\n",
    "    ax.plot(range(len(y_predict)),y_predict, color='b')\n",
    "    plt.show()"
   ]
  },
  {
   "cell_type": "code",
   "execution_count": 2,
   "metadata": {
    "collapsed": false
   },
   "outputs": [],
   "source": [
    "source_dire=\"feature\""
   ]
  },
  {
   "cell_type": "code",
   "execution_count": 3,
   "metadata": {
    "collapsed": false
   },
   "outputs": [
    {
     "name": "stdout",
     "output_type": "stream",
     "text": [
      "(133, 60, 52) (133, 60, 1) (50, 60, 52) (50, 60, 1)\n"
     ]
    }
   ],
   "source": [
    "df_train=pd.DataFrame([])\n",
    "df_validation=pd.DataFrame([])\n",
    "for i in range(1,6):    \n",
    "    df_temp=pd.read_csv(os.path.join(source_dire,\"test_\"+str(i)+\"_feature.csv\"))\n",
    "    df_validation=df_validation.append(df_temp)\n",
    "for i in range(1,4):    \n",
    "    df_temp=pd.read_csv(os.path.join(source_dire,\"train_\"+str(i)+\"_feature.csv\"))\n",
    "    df_train=df_train.append(df_temp)\n",
    "train_label=df_train[\"residual_life\"].values.reshape(-1,60,1)\n",
    "df_train.drop('residual_life',axis=1,inplace=True)\n",
    "train_data=df_train.values.reshape(-1,60,52)\n",
    "\n",
    "valid_label=df_validation[\"residual_life\"].values.reshape(-1,60,1)\n",
    "df_validation.drop('residual_life',axis=1,inplace=True)\n",
    "valid_data=df_validation.values.reshape(-1,60,52)\n",
    "gc.collect()\n",
    "print(train_data.shape,train_label.shape,valid_data.shape,valid_label.shape)"
   ]
  },
  {
   "cell_type": "code",
   "execution_count": 4,
   "metadata": {
    "collapsed": false
   },
   "outputs": [
    {
     "name": "stderr",
     "output_type": "stream",
     "text": [
      "Using TensorFlow backend.\n"
     ]
    }
   ],
   "source": [
    "from keras.models import Sequential\n",
    "from keras.layers import Dense\n",
    "from keras.layers import LSTM\n",
    "\n",
    "from keras import models as M\n",
    "from keras import layers as L\n",
    "from keras import metrics\n",
    "from keras import optimizers\n",
    "\n",
    "from sklearn.preprocessing import MinMaxScaler\n",
    "from sklearn.metrics import mean_squared_error"
   ]
  },
  {
   "cell_type": "code",
   "execution_count": 5,
   "metadata": {
    "collapsed": true
   },
   "outputs": [],
   "source": [
    "def evaluation_metric(y_true, y_pred):\n",
    "    y_true, y_pred = tf.reshape(y_true, [-1]), tf.reshape(y_pred, [-1])\n",
    "    er = y_true - y_pred\n",
    "    mask_n, mask_p = (er<=0), (er>0)\n",
    "    er_n, er_p = tf.boolean_mask(er, mask_n), tf.boolean_mask(er, mask_p)\n",
    "    score_n = tf.exp(-tf.log(0.5)*er_n/5)\n",
    "    score_p = tf.exp(tf.log(0.5)*er_p/20)\n",
    "    score = tf.concat([score_n, score_p], 0)\n",
    "    score = tf.reduce_mean(score)*100\n",
    "    return score\n",
    "def cust_loss1(y_real,y_predicted):\n",
    "    y_diff = y_real - y_predicted\n",
    "    loss = tf.where(tf.greater(y_diff, 0),\n",
    "                    -tf.exp(tf.log(0.5) * (y_diff / 20)) +1,\n",
    "                    -tf.exp(-tf.log(0.5) * (y_diff / 5)) +1)\n",
    "    return loss*tf.reduce_max(abs(y_diff))\n",
    "def cust_loss2(y_real,y_predicted):\n",
    "    y_diff = y_real - y_predicted\n",
    "    loss = tf.where(tf.greater(y_diff, 0),\n",
    "                    -tf.log(0.5) * (y_diff / 20),\n",
    "                    tf.log(0.5) * (y_diff / 5))\n",
    "    return loss**2\n",
    "def Error_compute(y_real,y_predicted):\n",
    "    y_diff=y_real-y_predicted\n",
    "    diff_positive=y_diff[y_diff>0]\n",
    "    diff_negitive_0=y_diff[y_diff<=0]\n",
    "    if diff_negitive_0.shape[0] >0:\n",
    "        sum_negitive_error=sum(np.exp(-np.log(0.5)*(diff_negitive_0/5)))\n",
    "    else:\n",
    "        sum_negitive_error=0\n",
    "    if diff_positive.shape[0] >0:\n",
    "        sum_positive_error=sum(np.exp(np.log(0.5)*(diff_positive/20)))\n",
    "    else:\n",
    "        sum_positive_error=0\n",
    "    return (sum_negitive_error+sum_positive_error)/len(y_real)"
   ]
  },
  {
   "cell_type": "code",
   "execution_count": 46,
   "metadata": {
    "collapsed": true
   },
   "outputs": [],
   "source": [
    "def LSTM_model(input_shape):\n",
    "    x_input = L.Input(shape=input_shape)\n",
    "    x=L.LSTM(units=104,activation=\"relu\",return_sequences=True)(x_input)#320\n",
    "    x=L.TimeDistributed(L.Dense(40))(x)\n",
    "    x=L.LSTM(units=208,activation=\"relu\",return_sequences=True)(x)\n",
    "    x=L.TimeDistributed(L.Dense(20))(x)\n",
    "    x=L.LSTM(units=416,activation=\"tanh\",return_sequences=True)(x)\n",
    "#     x=L.Dropout(0.5)(x)\n",
    "    x=L.TimeDistributed(L.Dense(10))(x)\n",
    "    y=L.TimeDistributed(L.Dense(1))(x)\n",
    "    \n",
    "    model = M.Model(inputs=x_input, outputs=y, name=\"LSTM\")\n",
    "    return model"
   ]
  },
  {
   "cell_type": "code",
   "execution_count": 47,
   "metadata": {
    "collapsed": true
   },
   "outputs": [],
   "source": [
    "from keras.callbacks import ModelCheckpoint\n",
    "from keras.callbacks import Callback\n",
    "graph = None\n",
    "model = None"
   ]
  },
  {
   "cell_type": "code",
   "execution_count": 59,
   "metadata": {
    "collapsed": false
   },
   "outputs": [
    {
     "name": "stdout",
     "output_type": "stream",
     "text": [
      "_________________________________________________________________\n",
      "Layer (type)                 Output Shape              Param #   \n",
      "=================================================================\n",
      "input_12 (InputLayer)        (None, 60, 52)            0         \n",
      "_________________________________________________________________\n",
      "lstm_33 (LSTM)               (None, 60, 104)           65312     \n",
      "_________________________________________________________________\n",
      "time_distributed_43 (TimeDis (None, 60, 40)            4200      \n",
      "_________________________________________________________________\n",
      "lstm_34 (LSTM)               (None, 60, 208)           207168    \n",
      "_________________________________________________________________\n",
      "time_distributed_44 (TimeDis (None, 60, 20)            4180      \n",
      "_________________________________________________________________\n",
      "lstm_35 (LSTM)               (None, 60, 416)           727168    \n",
      "_________________________________________________________________\n",
      "time_distributed_45 (TimeDis (None, 60, 10)            4170      \n",
      "_________________________________________________________________\n",
      "time_distributed_46 (TimeDis (None, 60, 1)             11        \n",
      "=================================================================\n",
      "Total params: 1,012,209\n",
      "Trainable params: 1,012,209\n",
      "Non-trainable params: 0\n",
      "_________________________________________________________________\n"
     ]
    }
   ],
   "source": [
    "checkpoint = ModelCheckpoint(filepath=\"./lstm_time_stas.h5\",monitor='val_evaluation_metric',verbose=1,save_best_only='True',\n",
    "                             mode='max',period=1)\n",
    "# tensorboard = TensorBoard(log_dir='log(./)')#metric function\n",
    "callback_lists = [checkpoint]  #因为callback是list型,必须转化为list\n",
    "graph = tf.get_default_graph()\n",
    "model=LSTM_model((60,52))\n",
    "model.summary()"
   ]
  },
  {
   "cell_type": "code",
   "execution_count": 60,
   "metadata": {
    "collapsed": false
   },
   "outputs": [
    {
     "name": "stdout",
     "output_type": "stream",
     "text": [
      "Train on 133 samples, validate on 50 samples\n",
      "Epoch 1/5\n",
      " - 12s - loss: 16437.0515 - evaluation_metric: 14.2055 - val_loss: 15709.1616 - val_evaluation_metric: 5.8056\n",
      "\n",
      "Epoch 00001: val_evaluation_metric improved from -inf to 5.80556, saving model to ./lstm_time_stas.h5\n",
      "Epoch 2/5\n",
      " - 2s - loss: 14976.8900 - evaluation_metric: 14.3647 - val_loss: 11761.7393 - val_evaluation_metric: 11.9363\n",
      "\n",
      "Epoch 00002: val_evaluation_metric improved from 5.80556 to 11.93631, saving model to ./lstm_time_stas.h5\n",
      "Epoch 3/5\n",
      " - 2s - loss: 11073.1766 - evaluation_metric: 16.5654 - val_loss: 8728.5908 - val_evaluation_metric: 22.6152\n",
      "\n",
      "Epoch 00003: val_evaluation_metric improved from 11.93631 to 22.61521, saving model to ./lstm_time_stas.h5\n",
      "Epoch 4/5\n",
      " - 2s - loss: 9039.1681 - evaluation_metric: 16.6463 - val_loss: 7156.8921 - val_evaluation_metric: 28.2372\n",
      "\n",
      "Epoch 00004: val_evaluation_metric improved from 22.61521 to 28.23723, saving model to ./lstm_time_stas.h5\n",
      "Epoch 5/5\n",
      " - 2s - loss: 7571.1210 - evaluation_metric: 16.2500 - val_loss: 5916.0532 - val_evaluation_metric: 30.4060\n",
      "\n",
      "Epoch 00005: val_evaluation_metric improved from 28.23723 to 30.40602, saving model to ./lstm_time_stas.h5\n"
     ]
    },
    {
     "data": {
      "text/plain": [
       "<keras.callbacks.History at 0x7f16099534a8>"
      ]
     },
     "execution_count": 60,
     "metadata": {},
     "output_type": "execute_result"
    }
   ],
   "source": [
    "Adam = optimizers.Adam(lr=1e-3, beta_1=0.9, beta_2=0.999, epsilon=1e-08)\n",
    "model.compile(loss='mean_squared_error', optimizer=Adam, metrics=[evaluation_metric])\n",
    "# model.compile(loss=cust_loss2, optimizer=Adam,metrics=[evaluation_metric])\n",
    "model.fit(train_data,train_label, epochs=5, verbose=2,batch_size=25,validation_data=(valid_data, valid_label),callbacks=callback_lists)"
   ]
  },
  {
   "cell_type": "code",
   "execution_count": 63,
   "metadata": {
    "collapsed": true
   },
   "outputs": [],
   "source": [
    "from keras.models import load_model\n",
    "model = load_model('lstm_time_stas.h5',{\"evaluation_metric\":evaluation_metric})"
   ]
  },
  {
   "cell_type": "code",
   "execution_count": 64,
   "metadata": {
    "collapsed": true
   },
   "outputs": [],
   "source": [
    "predicted=model.predict(valid_data).reshape(-1,)"
   ]
  },
  {
   "cell_type": "code",
   "execution_count": 65,
   "metadata": {
    "collapsed": false
   },
   "outputs": [
    {
     "name": "stdout",
     "output_type": "stream",
     "text": [
      "0.320342552011\n"
     ]
    },
    {
     "data": {
      "image/png": "[encoded data removed]",
      "text/plain": [
       "<matplotlib.figure.Figure at 0x7f1609940358>"
      ]
     },
     "metadata": {},
     "output_type": "display_data"
    }
   ],
   "source": [
    "df_result=pd.DataFrame({\"real\":valid_label.reshape(-1,),\"predicted\":predicted})\n",
    "df_predict=df_result[\"predicted\"].groupby(df_result['real']).mean()\n",
    "err=Error_compute(df_predict.index,df_predict)\n",
    "print(err)\n",
    "plt_plot(df_predict.index,df_predict)"
   ]
  },
  {
   "cell_type": "code",
   "execution_count": 72,
   "metadata": {
    "collapsed": false
   },
   "outputs": [
    {
     "data": {
      "text/plain": [
       "235.0    60\n",
       "71.0     60\n",
       "87.0     60\n",
       "86.0     60\n",
       "85.0     60\n",
       "82.0     60\n",
       "81.0     60\n",
       "80.0     60\n",
       "77.0     60\n",
       "76.0     60\n",
       "75.0     60\n",
       "72.0     60\n",
       "70.0     60\n",
       "230.0    60\n",
       "67.0     60\n",
       "66.0     60\n",
       "65.0     60\n",
       "62.0     60\n",
       "60.0     60\n",
       "57.0     60\n",
       "55.0     60\n",
       "52.0     60\n",
       "50.0     60\n",
       "45.0     60\n",
       "91.0     60\n",
       "92.0     60\n",
       "96.0     60\n",
       "97.0     60\n",
       "225.0    60\n",
       "220.0    60\n",
       "215.0    60\n",
       "210.0    60\n",
       "205.0    60\n",
       "200.0    60\n",
       "195.0    60\n",
       "190.0    60\n",
       "149.0    60\n",
       "144.0    60\n",
       "139.0    60\n",
       "134.0    60\n",
       "129.0    60\n",
       "124.0    60\n",
       "119.0    60\n",
       "114.0    60\n",
       "111.0    60\n",
       "109.0    60\n",
       "106.0    60\n",
       "104.0    60\n",
       "101.0    60\n",
       "40.0     60\n",
       "Name: real, dtype: int64"
      ]
     },
     "execution_count": 72,
     "metadata": {},
     "output_type": "execute_result"
    }
   ],
   "source": [
    "df_result[\"real\"].value_counts()"
   ]
  },
  {
   "cell_type": "code",
   "execution_count": null,
   "metadata": {
    "collapsed": true
   },
   "outputs": [],
   "source": []
  }
 ],
 "metadata": {
  "anaconda-cloud": {},
  "kernelspec": {
   "display_name": "Python [default]",
   "language": "python",
   "name": "python3"
  },
  "language_info": {
   "codemirror_mode": {
    "name": "ipython",
    "version": 3
   },
   "file_extension": ".py",
   "mimetype": "text/x-python",
   "name": "python",
   "nbconvert_exporter": "python",
   "pygments_lexer": "ipython3",
   "version": "3.5.2"
  }
 },
 "nbformat": 4,
 "nbformat_minor": 2
}
